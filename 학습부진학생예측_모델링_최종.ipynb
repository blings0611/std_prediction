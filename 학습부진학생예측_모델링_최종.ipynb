{
 "cells": [
  {
   "cell_type": "markdown",
   "source": [
    "## 학습 부진 학생 예측 모델 by Logistic Regression"
   ],
   "metadata": {}
  },
  {
   "cell_type": "code",
   "execution_count": 627,
   "source": [
    "# Library Import\r\n",
    "import pandas as pd\r\n",
    "import numpy as np\r\n",
    "from tqdm import tqdm\r\n",
    "import warnings\r\n",
    "warnings.filterwarnings(action='ignore')\r\n",
    "\r\n",
    "# visualizing\r\n",
    "import matplotlib.pyplot as plt\r\n",
    "import seaborn as sns\r\n",
    "plt.style.use('seaborn')\r\n",
    "sns.set(font_scale=1.0)\r\n",
    "import plotly.offline as py\r\n",
    "py.init_notebook_mode(connected=True)\r\n",
    "%matplotlib inline"
   ],
   "outputs": [
    {
     "output_type": "display_data",
     "data": {
      "text/html": [
       "        <script type=\"text/javascript\">\n",
       "        window.PlotlyConfig = {MathJaxConfig: 'local'};\n",
       "        if (window.MathJax) {MathJax.Hub.Config({SVG: {font: \"STIX-Web\"}});}\n",
       "        if (typeof require !== 'undefined') {\n",
       "        require.undef(\"plotly\");\n",
       "        requirejs.config({\n",
       "            paths: {\n",
       "                'plotly': ['https://cdn.plot.ly/plotly-latest.min']\n",
       "            }\n",
       "        });\n",
       "        require(['plotly'], function(Plotly) {\n",
       "            window._Plotly = Plotly;\n",
       "        });\n",
       "        }\n",
       "        </script>\n",
       "        "
      ]
     },
     "metadata": {}
    }
   ],
   "metadata": {}
  },
  {
   "cell_type": "markdown",
   "source": [
    "### 데이터 호출 및 병합"
   ],
   "metadata": {}
  },
  {
   "cell_type": "code",
   "execution_count": 628,
   "source": [
    "# load data\r\n",
    "train = pd.read_csv('전처리완료/train.csv', encoding='cp949')\r\n",
    "train.drop(['Unnamed: 0'], axis=1, inplace=True)\r\n",
    "test = pd.read_csv('전처리완료/test.csv', encoding='cp949')\r\n",
    "test.drop(['Unnamed: 0'], axis=1, inplace=True)"
   ],
   "outputs": [],
   "metadata": {}
  },
  {
   "cell_type": "code",
   "execution_count": 629,
   "source": [
    "# 변수 의미\r\n",
    "\r\n",
    "# USER_ID : 학번\r\n",
    "# GEN_FG : 성별 (남자/여자)\r\n",
    "# LOC_FG : 국적 (국내/해외)\r\n",
    "# GRADE : 학년 (1,2,3,4,5,6학년)\r\n",
    "# FLD_FG : 계열 (인문/사회/자연과학/공학/예체능)\r\n",
    "# CONNECT_RAT : 평균 접속 비율 (해당 학기에 접속한 총 횟수 / 총수업횟수로 나눈 값)\r\n",
    "# AVG_STUDY_TIME : 평균 수강 시간 (해당 학기에 수강한 모든 수업의 수강시간을 더한 후, (수업횟수*학점 수) 로 나눈 값)\r\n",
    "# AVG_WEB_STUDY_TIME : 평균 웹 수강 시간 (AVG_STUDY_TIME 중 웹으로 접속해 수강한 시간)\r\n",
    "# AVG_MOBILE_STUDY_TIME : 평균 모바일 수강 시간 (AVG_STUDY_TIME 중 모바일로 접속해 수강한 시간)\r\n",
    "# ABSENT_RAT : 결석 비율\r\n",
    "# AVG_ECLASS_RAT : 평균 이클래스 접속 비율\r\n",
    "# ENTR_FG : 입학구분 (수시/정시/편입/외국인/재외국민/약학대학/추가)\r\n",
    "# RE_ENTR_YN : 재입학 여부(Y/N)\r\n",
    "# ACADEMIC_PROB_CNT : 학사경고횟수\r\n",
    "# AVG_SCORE : 평균학점"
   ],
   "outputs": [],
   "metadata": {}
  },
  {
   "cell_type": "code",
   "execution_count": 630,
   "source": [
    "# 변수 제거 : 분석해보면 다중공선성이 높게 나와서 사용할 수 없음. 이상치 때문에 데이터 제거되는것을 방지하기 위해 미리 drop함.\r\n",
    "# train.drop(['AVG_WEB_STUDY_TIME', 'ABSENT_RAT'], axis=1, inplace=True)\r\n",
    "# test.drop(['AVG_WEB_STUDY_TIME', 'ABSENT_RAT'], axis=1, inplace=True)"
   ],
   "outputs": [],
   "metadata": {}
  },
  {
   "cell_type": "code",
   "execution_count": 631,
   "source": [
    "# 계열 3개로 줄이기(인문사회/자연공학/예체능)\r\n",
    "train['FLD_FG'].replace('인문', '인문사회', inplace=True)\r\n",
    "train['FLD_FG'].replace('사회', '인문사회', inplace=True)\r\n",
    "train['FLD_FG'].replace('자연과학', '자연공학', inplace=True)\r\n",
    "train['FLD_FG'].replace('공학', '자연공학', inplace=True)\r\n",
    "\r\n",
    "test['FLD_FG'].replace('인문', '인문사회', inplace=True)\r\n",
    "test['FLD_FG'].replace('사회', '인문사회', inplace=True)\r\n",
    "test['FLD_FG'].replace('자연과학', '자연공학', inplace=True)\r\n",
    "test['FLD_FG'].replace('공학', '자연공학', inplace=True)"
   ],
   "outputs": [],
   "metadata": {}
  },
  {
   "cell_type": "code",
   "execution_count": 632,
   "source": [
    "# 외국인, 재외국민 합치기\r\n",
    "train['ENTR_FG'].replace('외국인', '외국인및재외국민', inplace=True)\r\n",
    "train['ENTR_FG'].replace('재외국민', '외국인및재외국민', inplace=True)\r\n",
    "\r\n",
    "test['ENTR_FG'].replace('외국인', '외국인및재외국민', inplace=True)\r\n",
    "test['ENTR_FG'].replace('재외국민', '외국인및재외국민', inplace=True)\r\n",
    "\r\n",
    "# 편입, 약대 합치기\r\n",
    "train['ENTR_FG'].replace('약학대학', '편입', inplace=True)\r\n",
    "test['ENTR_FG'].replace('약학대학', '편입', inplace=True)"
   ],
   "outputs": [],
   "metadata": {}
  },
  {
   "cell_type": "code",
   "execution_count": 633,
   "source": [
    "# 타겟값 정의 : 평균평점 1.75 미만인 학생을 학습 부진 학생으로 정의한다.\r\n",
    "train.insert(12, 'TARGET', '')\r\n",
    "for i in range(len(train)):\r\n",
    "    if train['AVG_SCORE'].iloc[i] >= 1.75:\r\n",
    "        train['TARGET'].iloc[i] = 0\r\n",
    "    else:\r\n",
    "        train['TARGET'].iloc[i] = 1"
   ],
   "outputs": [],
   "metadata": {}
  },
  {
   "cell_type": "code",
   "execution_count": 634,
   "source": [
    "train.drop(['AVG_SCORE'], axis=1, inplace=True)"
   ],
   "outputs": [],
   "metadata": {}
  },
  {
   "cell_type": "code",
   "execution_count": 635,
   "source": [
    "# 클래스 비율 확인\r\n",
    "(train['TARGET'].value_counts() / len(train))*100"
   ],
   "outputs": [
    {
     "output_type": "execute_result",
     "data": {
      "text/plain": [
       "0    97.236202\n",
       "1     2.763798\n",
       "Name: TARGET, dtype: float64"
      ]
     },
     "metadata": {},
     "execution_count": 635
    }
   ],
   "metadata": {}
  },
  {
   "cell_type": "code",
   "execution_count": 636,
   "source": [
    "# 학년을 수치형으로\r\n",
    "for i in tqdm(range(len(train))):\r\n",
    "    train['GRADE'].iloc[i] = train['GRADE'].iloc[i].replace('학년', '')\r\n",
    "\r\n",
    "for i in tqdm(range(len(test))):\r\n",
    "    test['GRADE'].iloc[i] = test['GRADE'].iloc[i].replace('학년', '')"
   ],
   "outputs": [
    {
     "output_type": "stream",
     "name": "stderr",
     "text": [
      "100%|██████████| 11723/11723 [00:01<00:00, 6737.80it/s]\n",
      "100%|██████████| 11406/11406 [00:01<00:00, 6830.77it/s]\n"
     ]
    }
   ],
   "metadata": {}
  },
  {
   "cell_type": "code",
   "execution_count": 637,
   "source": [
    "# 데이터타입 변경\r\n",
    "train.loc[:, ['GRADE']] = train.loc[:, ['GRADE']].astype('int')\r\n",
    "train.loc[:, ['USER_ID']] = train.loc[:, ['USER_ID']].astype('str')\r\n",
    "train.loc[:, ['TARGET']] = train.loc[:, ['TARGET']].astype('int')\r\n",
    "\r\n",
    "test.loc[:, ['GRADE']] = test.loc[:, ['GRADE']].astype('int')\r\n",
    "test.loc[:, ['USER_ID']] = test.loc[:, ['USER_ID']].astype('str')"
   ],
   "outputs": [],
   "metadata": {}
  },
  {
   "cell_type": "markdown",
   "source": [
    "### 스케일링"
   ],
   "metadata": {}
  },
  {
   "cell_type": "code",
   "execution_count": 638,
   "source": [
    "# 수치형 컬럼\r\n",
    "num_cols = ['GRADE', 'ACADEMIC_PROB_CNT', 'CONNECT_RAT', 'AVG_STUDY_TIME', 'AVG_MOBILE_STUDY_TIME', 'AVG_ECLASS_RAT', 'AVG_WEB_STUDY_TIME', 'ABSENT_RAT']"
   ],
   "outputs": [],
   "metadata": {}
  },
  {
   "cell_type": "code",
   "execution_count": 639,
   "source": [
    "# train set skewness 확인\r\n",
    "for col in num_cols:\r\n",
    "    print(col, train[col].skew())"
   ],
   "outputs": [
    {
     "output_type": "stream",
     "name": "stdout",
     "text": [
      "GRADE -0.3552168687635059\n",
      "ACADEMIC_PROB_CNT 5.260090543970552\n",
      "CONNECT_RAT 0.20167053897220774\n",
      "AVG_STUDY_TIME 1.2588148371315373\n",
      "AVG_MOBILE_STUDY_TIME 3.346306653701093\n",
      "AVG_ECLASS_RAT 2.616121780487374\n",
      "AVG_WEB_STUDY_TIME 1.277031535933222\n",
      "ABSENT_RAT -0.2027120451444546\n"
     ]
    }
   ],
   "metadata": {}
  },
  {
   "cell_type": "code",
   "execution_count": 640,
   "source": [
    "# test set skewness 확인\r\n",
    "for col in num_cols:\r\n",
    "    print(col, test[col].skew())"
   ],
   "outputs": [
    {
     "output_type": "stream",
     "name": "stdout",
     "text": [
      "GRADE -0.1184970046990551\n",
      "ACADEMIC_PROB_CNT 5.291483263701362\n",
      "CONNECT_RAT -2.509811518161598\n",
      "AVG_STUDY_TIME 0.27973398417780365\n",
      "AVG_MOBILE_STUDY_TIME 2.3621827245647444\n",
      "AVG_ECLASS_RAT 2.1931923264375355\n",
      "AVG_WEB_STUDY_TIME 0.18946282948987922\n",
      "ABSENT_RAT 2.513917066137304\n"
     ]
    }
   ],
   "metadata": {}
  },
  {
   "cell_type": "code",
   "execution_count": 641,
   "source": [
    "# 로그변환\r\n",
    "sk_cols = ['AVG_ECLASS_RAT', 'ACADEMIC_PROB_CNT', 'AVG_MOBILE_STUDY_TIME']\r\n",
    "for col in sk_cols:\r\n",
    "    train[col] = np.log1p(train[col])\r\n",
    "\r\n",
    "for col in sk_cols:\r\n",
    "    test[col] = np.log1p(test[col])"
   ],
   "outputs": [],
   "metadata": {}
  },
  {
   "cell_type": "code",
   "execution_count": 642,
   "source": [
    "# 로그변환하지 않은 컬럼은 Standard Scaling 적용\r\n",
    "from sklearn.preprocessing import StandardScaler\r\n",
    "sc_cols = ['GRADE', 'CONNECT_RAT', 'AVG_STUDY_TIME', 'AVG_WEB_STUDY_TIME', 'ABSENT_RAT']\r\n",
    "scaler = StandardScaler()\r\n",
    "for col in sc_cols:\r\n",
    "    train[col] = scaler.fit_transform(train[[col]])\r\n",
    "    test[col] = scaler.transform(test[[col]])"
   ],
   "outputs": [],
   "metadata": {}
  },
  {
   "cell_type": "code",
   "execution_count": 643,
   "source": [
    "# 데이터 이상치 탐색\r\n",
    "def get_outlier(df=None, column=None, weight=1.5):\r\n",
    "\r\n",
    "    fraud = df[df['TARGET']==1][column]\r\n",
    "    quantile_25 = np.percentile(fraud.values, 25)\r\n",
    "    quantile_75 = np.percentile(fraud.values, 75)\r\n",
    "\r\n",
    "    iqr = quantile_75 - quantile_25\r\n",
    "    iqr_weight = iqr * weight\r\n",
    "    lowest_val = quantile_25 - iqr_weight\r\n",
    "    highest_val = quantile_75 + iqr_weight\r\n",
    "\r\n",
    "    outlier_index = fraud[(fraud < lowest_val) | (fraud > highest_val)].index\r\n",
    "    return outlier_index"
   ],
   "outputs": [],
   "metadata": {}
  },
  {
   "cell_type": "code",
   "execution_count": 647,
   "source": [
    "# 수치형 데이터의 이상치 제거\r\n",
    "for col in num_cols:\r\n",
    "    outlier_index = get_outlier(df=train, column=col, weight=1.5)\r\n",
    "    print(col, ':', outlier_index)\r\n",
    "    train.drop(outlier_index, axis=0, inplace=True)"
   ],
   "outputs": [
    {
     "output_type": "stream",
     "name": "stdout",
     "text": [
      "GRADE : Int64Index([], dtype='int64')\n",
      "ACADEMIC_PROB_CNT : Int64Index([], dtype='int64')\n",
      "CONNECT_RAT : Int64Index([], dtype='int64')\n",
      "AVG_STUDY_TIME : Int64Index([], dtype='int64')\n",
      "AVG_MOBILE_STUDY_TIME : Int64Index([], dtype='int64')\n",
      "AVG_ECLASS_RAT : Int64Index([], dtype='int64')\n",
      "AVG_WEB_STUDY_TIME : Int64Index([], dtype='int64')\n",
      "ABSENT_RAT : Int64Index([], dtype='int64')\n"
     ]
    }
   ],
   "metadata": {}
  },
  {
   "cell_type": "code",
   "execution_count": 645,
   "source": [
    "# 이상치 없을때까지 제거\r\n",
    "stop\r\n",
    "stop"
   ],
   "outputs": [
    {
     "output_type": "error",
     "ename": "NameError",
     "evalue": "name 'stop' is not defined",
     "traceback": [
      "\u001b[1;31m---------------------------------------------------------------------------\u001b[0m",
      "\u001b[1;31mNameError\u001b[0m                                 Traceback (most recent call last)",
      "\u001b[1;32m<ipython-input-645-7c847f6cf814>\u001b[0m in \u001b[0;36m<module>\u001b[1;34m\u001b[0m\n\u001b[0;32m      1\u001b[0m \u001b[1;31m# 이상치 없을때까지 제거\u001b[0m\u001b[1;33m\u001b[0m\u001b[1;33m\u001b[0m\u001b[1;33m\u001b[0m\u001b[0m\n\u001b[1;32m----> 2\u001b[1;33m \u001b[0mstop\u001b[0m\u001b[1;33m\u001b[0m\u001b[1;33m\u001b[0m\u001b[0m\n\u001b[0m\u001b[0;32m      3\u001b[0m \u001b[0mstop\u001b[0m\u001b[1;33m\u001b[0m\u001b[1;33m\u001b[0m\u001b[0m\n",
      "\u001b[1;31mNameError\u001b[0m: name 'stop' is not defined"
     ]
    }
   ],
   "metadata": {}
  },
  {
   "cell_type": "code",
   "execution_count": 648,
   "source": [
    "train.reset_index(drop=True, inplace=True)"
   ],
   "outputs": [],
   "metadata": {}
  },
  {
   "cell_type": "code",
   "execution_count": 649,
   "source": [
    "len(train)"
   ],
   "outputs": [
    {
     "output_type": "execute_result",
     "data": {
      "text/plain": [
       "11690"
      ]
     },
     "metadata": {},
     "execution_count": 649
    }
   ],
   "metadata": {}
  },
  {
   "cell_type": "markdown",
   "source": [
    "### 다중공선성 확인"
   ],
   "metadata": {}
  },
  {
   "cell_type": "code",
   "execution_count": null,
   "source": [
    "# modeling\r\n",
    "from statsmodels.stats.outliers_influence import variance_inflation_factor\r\n",
    "import statsmodels.formula.api as smf\r\n",
    "from sklearn.model_selection import train_test_split, StratifiedKFold, GridSearchCV"
   ],
   "outputs": [],
   "metadata": {}
  },
  {
   "cell_type": "code",
   "execution_count": 650,
   "source": [
    "# 범주형 변수 인코딩\r\n",
    "cat_cols = ['GEN_FG', 'FLD_FG', 'LOC_FG', 'ENTR_FG', 'RE_ENTR_YN']\r\n",
    "train_dummies = pd.get_dummies(train, columns=cat_cols, drop_first=True)\r\n",
    "test_dummies = pd.get_dummies(test, columns=cat_cols, drop_first=True)"
   ],
   "outputs": [],
   "metadata": {}
  },
  {
   "cell_type": "code",
   "execution_count": 651,
   "source": [
    "# VIF\r\n",
    "model = smf.ols('TARGET ~ GRADE + ACADEMIC_PROB_CNT + CONNECT_RAT + AVG_STUDY_TIME + AVG_MOBILE_STUDY_TIME + AVG_ECLASS_RAT +  GEN_FG_여자 + FLD_FG_인문사회 + FLD_FG_자연공학 +  LOC_FG_해외 + ENTR_FG_외국인및재외국민 + ENTR_FG_정시 + ENTR_FG_추가 + ENTR_FG_편입 + RE_ENTR_YN_Y', data=train_dummies)\r\n",
    "pd.DataFrame({'Feature': column, 'VIF': variance_inflation_factor(model.exog, i)} \r\n",
    "             for i, column in enumerate(model.exog_names)\r\n",
    "             if column != 'Intercept').sort_values(by=['VIF'], ascending=False)"
   ],
   "outputs": [
    {
     "output_type": "execute_result",
     "data": {
      "text/plain": [
       "                  Feature       VIF\n",
       "8             FLD_FG_자연공학  4.415024\n",
       "7             FLD_FG_인문사회  4.276567\n",
       "9               LOC_FG_해외  2.639493\n",
       "10       ENTR_FG_외국인및재외국민  2.630502\n",
       "3          AVG_STUDY_TIME  1.245205\n",
       "4   AVG_MOBILE_STUDY_TIME  1.221270\n",
       "1       ACADEMIC_PROB_CNT  1.215602\n",
       "13             ENTR_FG_편입  1.194503\n",
       "6               GEN_FG_여자  1.143759\n",
       "11             ENTR_FG_정시  1.138134\n",
       "14           RE_ENTR_YN_Y  1.136968\n",
       "0                   GRADE  1.126255\n",
       "2             CONNECT_RAT  1.087668\n",
       "5          AVG_ECLASS_RAT  1.079502\n",
       "12             ENTR_FG_추가  1.003614"
      ],
      "text/html": [
       "<div>\n",
       "<style scoped>\n",
       "    .dataframe tbody tr th:only-of-type {\n",
       "        vertical-align: middle;\n",
       "    }\n",
       "\n",
       "    .dataframe tbody tr th {\n",
       "        vertical-align: top;\n",
       "    }\n",
       "\n",
       "    .dataframe thead th {\n",
       "        text-align: right;\n",
       "    }\n",
       "</style>\n",
       "<table border=\"1\" class=\"dataframe\">\n",
       "  <thead>\n",
       "    <tr style=\"text-align: right;\">\n",
       "      <th></th>\n",
       "      <th>Feature</th>\n",
       "      <th>VIF</th>\n",
       "    </tr>\n",
       "  </thead>\n",
       "  <tbody>\n",
       "    <tr>\n",
       "      <th>8</th>\n",
       "      <td>FLD_FG_자연공학</td>\n",
       "      <td>4.415024</td>\n",
       "    </tr>\n",
       "    <tr>\n",
       "      <th>7</th>\n",
       "      <td>FLD_FG_인문사회</td>\n",
       "      <td>4.276567</td>\n",
       "    </tr>\n",
       "    <tr>\n",
       "      <th>9</th>\n",
       "      <td>LOC_FG_해외</td>\n",
       "      <td>2.639493</td>\n",
       "    </tr>\n",
       "    <tr>\n",
       "      <th>10</th>\n",
       "      <td>ENTR_FG_외국인및재외국민</td>\n",
       "      <td>2.630502</td>\n",
       "    </tr>\n",
       "    <tr>\n",
       "      <th>3</th>\n",
       "      <td>AVG_STUDY_TIME</td>\n",
       "      <td>1.245205</td>\n",
       "    </tr>\n",
       "    <tr>\n",
       "      <th>4</th>\n",
       "      <td>AVG_MOBILE_STUDY_TIME</td>\n",
       "      <td>1.221270</td>\n",
       "    </tr>\n",
       "    <tr>\n",
       "      <th>1</th>\n",
       "      <td>ACADEMIC_PROB_CNT</td>\n",
       "      <td>1.215602</td>\n",
       "    </tr>\n",
       "    <tr>\n",
       "      <th>13</th>\n",
       "      <td>ENTR_FG_편입</td>\n",
       "      <td>1.194503</td>\n",
       "    </tr>\n",
       "    <tr>\n",
       "      <th>6</th>\n",
       "      <td>GEN_FG_여자</td>\n",
       "      <td>1.143759</td>\n",
       "    </tr>\n",
       "    <tr>\n",
       "      <th>11</th>\n",
       "      <td>ENTR_FG_정시</td>\n",
       "      <td>1.138134</td>\n",
       "    </tr>\n",
       "    <tr>\n",
       "      <th>14</th>\n",
       "      <td>RE_ENTR_YN_Y</td>\n",
       "      <td>1.136968</td>\n",
       "    </tr>\n",
       "    <tr>\n",
       "      <th>0</th>\n",
       "      <td>GRADE</td>\n",
       "      <td>1.126255</td>\n",
       "    </tr>\n",
       "    <tr>\n",
       "      <th>2</th>\n",
       "      <td>CONNECT_RAT</td>\n",
       "      <td>1.087668</td>\n",
       "    </tr>\n",
       "    <tr>\n",
       "      <th>5</th>\n",
       "      <td>AVG_ECLASS_RAT</td>\n",
       "      <td>1.079502</td>\n",
       "    </tr>\n",
       "    <tr>\n",
       "      <th>12</th>\n",
       "      <td>ENTR_FG_추가</td>\n",
       "      <td>1.003614</td>\n",
       "    </tr>\n",
       "  </tbody>\n",
       "</table>\n",
       "</div>"
      ]
     },
     "metadata": {},
     "execution_count": 651
    }
   ],
   "metadata": {}
  },
  {
   "cell_type": "markdown",
   "source": [
    "### 모델링: 로지스틱"
   ],
   "metadata": {}
  },
  {
   "cell_type": "code",
   "execution_count": 652,
   "source": [
    "from sklearn.linear_model import LogisticRegression\r\n",
    "from sklearn.model_selection import train_test_split, GridSearchCV, StratifiedKFold\r\n",
    "from sklearn.preprocessing import StandardScaler, Binarizer\r\n",
    "from sklearn.linear_model import LogisticRegression\r\n",
    "from sklearn.metrics import confusion_matrix, accuracy_score, precision_score, recall_score, f1_score, roc_auc_score, roc_curve, precision_recall_curve"
   ],
   "outputs": [],
   "metadata": {}
  },
  {
   "cell_type": "code",
   "execution_count": 849,
   "source": [
    "train_new = train_dummies.drop(['ABSENT_RAT', 'AVG_WEB_STUDY_TIME'], axis=1)\r\n",
    "test_new = test_dummies.drop(['ABSENT_RAT', 'AVG_WEB_STUDY_TIME'], axis=1)"
   ],
   "outputs": [],
   "metadata": {}
  },
  {
   "cell_type": "code",
   "execution_count": 850,
   "source": [
    "# train set: 독립변수, 종속변수 분리\r\n",
    "X = train_new.drop(['USER_ID', 'TARGET'],axis=1)\r\n",
    "y = train_new['TARGET']"
   ],
   "outputs": [],
   "metadata": {}
  },
  {
   "cell_type": "code",
   "execution_count": 851,
   "source": [
    "# p-value 확인\r\n",
    "import statsmodels.api as sm\r\n",
    "X = sm.add_constant(X)\r\n",
    "model = sm.Logit(y, X)\r\n",
    "results = model.fit()\r\n",
    "\r\n",
    "print( results.summary() )"
   ],
   "outputs": [
    {
     "output_type": "stream",
     "name": "stdout",
     "text": [
      "Optimization terminated successfully.\n",
      "         Current function value: 0.088559\n",
      "         Iterations 9\n",
      "                           Logit Regression Results                           \n",
      "==============================================================================\n",
      "Dep. Variable:                 TARGET   No. Observations:                11690\n",
      "Model:                          Logit   Df Residuals:                    11674\n",
      "Method:                           MLE   Df Model:                           15\n",
      "Date:                Fri, 24 Dec 2021   Pseudo R-squ.:                  0.2399\n",
      "Time:                        16:42:49   Log-Likelihood:                -1035.3\n",
      "converged:                       True   LL-Null:                       -1362.1\n",
      "Covariance Type:            nonrobust   LLR p-value:                1.407e-129\n",
      "=========================================================================================\n",
      "                            coef    std err          z      P>|z|      [0.025      0.975]\n",
      "-----------------------------------------------------------------------------------------\n",
      "const                    -2.9491      0.335     -8.811      0.000      -3.605      -2.293\n",
      "GRADE                    -0.7631      0.072    -10.590      0.000      -0.904      -0.622\n",
      "ACADEMIC_PROB_CNT         2.3188      0.168     13.781      0.000       1.989       2.649\n",
      "CONNECT_RAT              -0.1558      0.066     -2.374      0.018      -0.284      -0.027\n",
      "AVG_STUDY_TIME           -0.9711      0.116     -8.397      0.000      -1.198      -0.744\n",
      "AVG_MOBILE_STUDY_TIME     0.1617      0.047      3.429      0.001       0.069       0.254\n",
      "AVG_ECLASS_RAT           -1.1719      0.135     -8.656      0.000      -1.437      -0.907\n",
      "GEN_FG_여자                -0.5357      0.144     -3.723      0.000      -0.818      -0.254\n",
      "FLD_FG_인문사회              -0.2372      0.226     -1.052      0.293      -0.679       0.205\n",
      "FLD_FG_자연공학              -0.1190      0.233     -0.511      0.609      -0.575       0.337\n",
      "LOC_FG_해외                 1.0918      0.379      2.880      0.004       0.349       1.835\n",
      "ENTR_FG_외국인및재외국민         -0.0865      0.377     -0.229      0.819      -0.826       0.653\n",
      "ENTR_FG_정시                0.1136      0.147      0.775      0.439      -0.174       0.401\n",
      "ENTR_FG_추가                2.3445      0.722      3.248      0.001       0.930       3.759\n",
      "ENTR_FG_편입                0.2441      0.373      0.655      0.513      -0.487       0.975\n",
      "RE_ENTR_YN_Y             -0.8320      0.424     -1.962      0.050      -1.663      -0.001\n",
      "=========================================================================================\n"
     ]
    }
   ],
   "metadata": {}
  },
  {
   "cell_type": "code",
   "execution_count": 852,
   "source": [
    "X.drop(['const'], axis=1, inplace=True)"
   ],
   "outputs": [],
   "metadata": {}
  },
  {
   "cell_type": "code",
   "execution_count": 853,
   "source": [
    "# train set, valid set으로 split\r\n",
    "X_train, X_valid, y_train, y_valid = train_test_split(X, y, test_size=0.3, random_state=60, stratify=y)"
   ],
   "outputs": [],
   "metadata": {}
  },
  {
   "cell_type": "code",
   "execution_count": 854,
   "source": [
    "print('학습 세트 레이블 값 분포')\r\n",
    "print(y_train.value_counts())\r\n",
    "print('\\n 검증 세트 레이블 값 분포 비율')\r\n",
    "print(y_valid.value_counts())"
   ],
   "outputs": [
    {
     "output_type": "stream",
     "name": "stdout",
     "text": [
      "학습 세트 레이블 값 분포\n",
      "0    7979\n",
      "1     204\n",
      "Name: TARGET, dtype: int64\n",
      "\n",
      " 검증 세트 레이블 값 분포 비율\n",
      "0    3420\n",
      "1      87\n",
      "Name: TARGET, dtype: int64\n"
     ]
    }
   ],
   "metadata": {}
  },
  {
   "cell_type": "markdown",
   "source": [
    "### 모델 - Logistic Regression"
   ],
   "metadata": {}
  },
  {
   "cell_type": "code",
   "execution_count": 855,
   "source": [
    "lgr = LogisticRegression()"
   ],
   "outputs": [],
   "metadata": {}
  },
  {
   "cell_type": "code",
   "execution_count": 856,
   "source": [
    "# Grid Search\r\n",
    "from sklearn.model_selection import GridSearchCV\r\n",
    "\r\n",
    "params={'penalty':['l2', 'l1'],\r\n",
    "        'C':[i for i in range(1, 11)]}\r\n",
    "\r\n",
    "# 상세 조정한 kfold 객체 생성\r\n",
    "skf = StratifiedKFold(n_splits=10, shuffle = True, random_state=20)\r\n",
    "\r\n",
    "grid = GridSearchCV(lgr, param_grid=params, scoring='f1', cv=skf, n_jobs=-1)\r\n",
    "grid.fit(X_train, y_train)\r\n",
    "\r\n",
    "print('최적 하이퍼 파라미터:{0}, 최적 f1-score :{1:.4f}'.format(grid.best_params_, grid.best_score_))"
   ],
   "outputs": [
    {
     "output_type": "stream",
     "name": "stdout",
     "text": [
      "최적 하이퍼 파라미터:{'C': 6, 'penalty': 'l2'}, 최적 f1-score :0.1097\n"
     ]
    }
   ],
   "metadata": {}
  },
  {
   "cell_type": "code",
   "execution_count": 858,
   "source": [
    "# Logistic Regression\r\n",
    "lgr = LogisticRegression(C=6, penalty='l2')\r\n",
    "lgr.fit(X_train, y_train)"
   ],
   "outputs": [
    {
     "output_type": "execute_result",
     "data": {
      "text/plain": [
       "LogisticRegression(C=6)"
      ]
     },
     "metadata": {},
     "execution_count": 858
    }
   ],
   "metadata": {}
  },
  {
   "cell_type": "code",
   "execution_count": 859,
   "source": [
    "# Prediction\r\n",
    "lgr_pred = lgr.predict(X_valid)\r\n",
    "lgr_pred_proba = lgr.predict_proba(X_valid)[:, 1]"
   ],
   "outputs": [],
   "metadata": {}
  },
  {
   "cell_type": "code",
   "execution_count": 860,
   "source": [
    "# Confusion Matrix\r\n",
    "def get_clf_eval(y_valid, pred, lgr_pred_proba):\r\n",
    "    confusion = confusion_matrix(y_valid, pred)\r\n",
    "    accuracy = accuracy_score(y_valid, pred)\r\n",
    "    precision = precision_score(y_valid, pred)\r\n",
    "    recall = recall_score(y_valid, pred)\r\n",
    "    f1 = f1_score(y_valid, pred)\r\n",
    "    roc_auc = roc_auc_score(y_valid, lgr_pred_proba)\r\n",
    "    print('오차행렬')\r\n",
    "    print(confusion)\r\n",
    "    print('accuracy:{0:.4f}, precision:{1:.4f}, recall:{2:.4f}, f1_score:{3:.4f}, roc_auc:{4:.4f}'.format(accuracy, precision, recall, f1, roc_auc))"
   ],
   "outputs": [],
   "metadata": {}
  },
  {
   "cell_type": "code",
   "execution_count": 861,
   "source": [
    "# Validation\r\n",
    "get_clf_eval(y_valid, lgr_pred, lgr_pred_proba)"
   ],
   "outputs": [
    {
     "output_type": "stream",
     "name": "stdout",
     "text": [
      "오차행렬\n",
      "[[3413    7]\n",
      " [  79    8]]\n",
      "accuracy:0.9755, precision:0.5333, recall:0.0920, f1_score:0.1569, roc_auc:0.8428\n"
     ]
    }
   ],
   "metadata": {}
  },
  {
   "cell_type": "code",
   "execution_count": 862,
   "source": [
    "# beta, exp(beta) 확인\r\n",
    "column_name = [\"const\"] + X_train.columns.tolist()\r\n",
    "beta = np.concatenate([lgr.intercept_, lgr.coef_.reshape(-1)]).round(2)\r\n",
    "odds = np.exp(beta).round(2)\r\n",
    "\r\n",
    "beta_analysis = pd.DataFrame(np.c_[beta, odds], index=column_name, columns=['beta', 'exp(beta)'])\r\n",
    "beta_analysis.drop('const', inplace=True)"
   ],
   "outputs": [],
   "metadata": {}
  },
  {
   "cell_type": "code",
   "execution_count": 863,
   "source": [
    "beta_analysis.sort_values(by = 'beta', ascending=False)"
   ],
   "outputs": [
    {
     "output_type": "execute_result",
     "data": {
      "text/plain": [
       "                       beta  exp(beta)\n",
       "ACADEMIC_PROB_CNT      2.36      10.59\n",
       "ENTR_FG_추가             2.07       7.92\n",
       "LOC_FG_해외              0.99       2.69\n",
       "ENTR_FG_편입             0.26       1.30\n",
       "AVG_MOBILE_STUDY_TIME  0.19       1.21\n",
       "ENTR_FG_외국인및재외국민       0.10       1.11\n",
       "ENTR_FG_정시             0.09       1.09\n",
       "CONNECT_RAT           -0.14       0.87\n",
       "FLD_FG_자연공학           -0.17       0.84\n",
       "GEN_FG_여자             -0.36       0.70\n",
       "FLD_FG_인문사회           -0.37       0.69\n",
       "RE_ENTR_YN_Y          -0.67       0.51\n",
       "GRADE                 -0.81       0.44\n",
       "AVG_STUDY_TIME        -1.01       0.36\n",
       "AVG_ECLASS_RAT        -1.20       0.30"
      ],
      "text/html": [
       "<div>\n",
       "<style scoped>\n",
       "    .dataframe tbody tr th:only-of-type {\n",
       "        vertical-align: middle;\n",
       "    }\n",
       "\n",
       "    .dataframe tbody tr th {\n",
       "        vertical-align: top;\n",
       "    }\n",
       "\n",
       "    .dataframe thead th {\n",
       "        text-align: right;\n",
       "    }\n",
       "</style>\n",
       "<table border=\"1\" class=\"dataframe\">\n",
       "  <thead>\n",
       "    <tr style=\"text-align: right;\">\n",
       "      <th></th>\n",
       "      <th>beta</th>\n",
       "      <th>exp(beta)</th>\n",
       "    </tr>\n",
       "  </thead>\n",
       "  <tbody>\n",
       "    <tr>\n",
       "      <th>ACADEMIC_PROB_CNT</th>\n",
       "      <td>2.36</td>\n",
       "      <td>10.59</td>\n",
       "    </tr>\n",
       "    <tr>\n",
       "      <th>ENTR_FG_추가</th>\n",
       "      <td>2.07</td>\n",
       "      <td>7.92</td>\n",
       "    </tr>\n",
       "    <tr>\n",
       "      <th>LOC_FG_해외</th>\n",
       "      <td>0.99</td>\n",
       "      <td>2.69</td>\n",
       "    </tr>\n",
       "    <tr>\n",
       "      <th>ENTR_FG_편입</th>\n",
       "      <td>0.26</td>\n",
       "      <td>1.30</td>\n",
       "    </tr>\n",
       "    <tr>\n",
       "      <th>AVG_MOBILE_STUDY_TIME</th>\n",
       "      <td>0.19</td>\n",
       "      <td>1.21</td>\n",
       "    </tr>\n",
       "    <tr>\n",
       "      <th>ENTR_FG_외국인및재외국민</th>\n",
       "      <td>0.10</td>\n",
       "      <td>1.11</td>\n",
       "    </tr>\n",
       "    <tr>\n",
       "      <th>ENTR_FG_정시</th>\n",
       "      <td>0.09</td>\n",
       "      <td>1.09</td>\n",
       "    </tr>\n",
       "    <tr>\n",
       "      <th>CONNECT_RAT</th>\n",
       "      <td>-0.14</td>\n",
       "      <td>0.87</td>\n",
       "    </tr>\n",
       "    <tr>\n",
       "      <th>FLD_FG_자연공학</th>\n",
       "      <td>-0.17</td>\n",
       "      <td>0.84</td>\n",
       "    </tr>\n",
       "    <tr>\n",
       "      <th>GEN_FG_여자</th>\n",
       "      <td>-0.36</td>\n",
       "      <td>0.70</td>\n",
       "    </tr>\n",
       "    <tr>\n",
       "      <th>FLD_FG_인문사회</th>\n",
       "      <td>-0.37</td>\n",
       "      <td>0.69</td>\n",
       "    </tr>\n",
       "    <tr>\n",
       "      <th>RE_ENTR_YN_Y</th>\n",
       "      <td>-0.67</td>\n",
       "      <td>0.51</td>\n",
       "    </tr>\n",
       "    <tr>\n",
       "      <th>GRADE</th>\n",
       "      <td>-0.81</td>\n",
       "      <td>0.44</td>\n",
       "    </tr>\n",
       "    <tr>\n",
       "      <th>AVG_STUDY_TIME</th>\n",
       "      <td>-1.01</td>\n",
       "      <td>0.36</td>\n",
       "    </tr>\n",
       "    <tr>\n",
       "      <th>AVG_ECLASS_RAT</th>\n",
       "      <td>-1.20</td>\n",
       "      <td>0.30</td>\n",
       "    </tr>\n",
       "  </tbody>\n",
       "</table>\n",
       "</div>"
      ]
     },
     "metadata": {},
     "execution_count": 863
    }
   ],
   "metadata": {}
  },
  {
   "cell_type": "markdown",
   "source": [
    "### Recall - Precision Curve"
   ],
   "metadata": {}
  },
  {
   "cell_type": "code",
   "execution_count": 864,
   "source": [
    "def precision_recall_curve_plot(y_valid , pred_proba):\r\n",
    "    precisions, recalls, thresholds = precision_recall_curve(y_valid, pred_proba)\r\n",
    "    \r\n",
    "    plt.figure(figsize=(8,6))\r\n",
    "    threshold_boundary = thresholds.shape[0]\r\n",
    "    plt.plot(thresholds, precisions[0:threshold_boundary], linestyle='--', label='precision')\r\n",
    "    plt.plot(thresholds, recalls[0:threshold_boundary], label='recall')\r\n",
    "    \r\n",
    "    start, end = plt.xlim()\r\n",
    "    plt.xticks(np.round(np.arange(start, end, 0.1),2))\r\n",
    "    \r\n",
    "    plt.xlabel('Threshold value'); plt.ylabel('Precision and Recall value')\r\n",
    "    plt.legend(); plt.grid()\r\n",
    "    plt.show()"
   ],
   "outputs": [],
   "metadata": {}
  },
  {
   "cell_type": "code",
   "execution_count": 865,
   "source": [
    "# precision과 recall 커브 그려서 임계값 확인\r\n",
    "precision_recall_curve_plot(y_valid, lgr_pred_proba)"
   ],
   "outputs": [
    {
     "output_type": "display_data",
     "data": {
      "text/plain": [
       "<Figure size 576x432 with 1 Axes>"
      ],
      "image/png": "[encoded data removed]"
     },
     "metadata": {
      "needs_background": "light"
     }
    }
   ],
   "metadata": {}
  },
  {
   "cell_type": "code",
   "execution_count": 884,
   "source": [
    "# Threshold 값 조정\r\n",
    "from sklearn.preprocessing import Binarizer\r\n",
    "custom_threshold = 0.1263\r\n",
    "pred_proba_1 = lgr_pred_proba.reshape(-1,1)\r\n",
    "binarizer = Binarizer(threshold=custom_threshold).fit(pred_proba_1)\r\n",
    "custom_predict = binarizer.transform(pred_proba_1)\r\n",
    "\r\n",
    "get_clf_eval(y_valid, custom_predict, lgr_pred_proba)"
   ],
   "outputs": [
    {
     "output_type": "stream",
     "name": "stdout",
     "text": [
      "오차행렬\n",
      "[[3322   98]\n",
      " [  52   35]]\n",
      "accuracy:0.9572, precision:0.2632, recall:0.4023, f1_score:0.3182, roc_auc:0.8428\n"
     ]
    }
   ],
   "metadata": {}
  },
  {
   "cell_type": "code",
   "execution_count": 885,
   "source": [
    "len(train)"
   ],
   "outputs": [
    {
     "output_type": "execute_result",
     "data": {
      "text/plain": [
       "11690"
      ]
     },
     "metadata": {},
     "execution_count": 885
    }
   ],
   "metadata": {}
  },
  {
   "cell_type": "markdown",
   "source": [
    "### 테스트셋 적용"
   ],
   "metadata": {}
  },
  {
   "cell_type": "code",
   "execution_count": 886,
   "source": [
    "result = pd.DataFrame(columns=['USER_ID', 'TARGET'])"
   ],
   "outputs": [],
   "metadata": {}
  },
  {
   "cell_type": "code",
   "execution_count": 887,
   "source": [
    "X_test = test_new.drop(['USER_ID'], axis=1)\r\n",
    "y_test = test_new['USER_ID']"
   ],
   "outputs": [],
   "metadata": {}
  },
  {
   "cell_type": "code",
   "execution_count": 888,
   "source": [
    "# 확률 예측\r\n",
    "ori_pred_proba = lgr.predict_proba(X_test)[:, 1]"
   ],
   "outputs": [],
   "metadata": {}
  },
  {
   "cell_type": "code",
   "execution_count": 889,
   "source": [
    "# threshold에 맞게 조정\r\n",
    "pred_proba_test = ori_pred_proba.reshape(-1,1)\r\n",
    "binarizer = Binarizer(threshold=custom_threshold).fit(pred_proba_test)\r\n",
    "custom_predict_test = binarizer.transform(pred_proba_test)"
   ],
   "outputs": [],
   "metadata": {}
  },
  {
   "cell_type": "code",
   "execution_count": 890,
   "source": [
    "result['USER_ID'] = y_test\r\n",
    "result['TARGET'] = custom_predict_test"
   ],
   "outputs": [],
   "metadata": {}
  },
  {
   "cell_type": "code",
   "execution_count": 891,
   "source": [
    "# 데이터타입 변경\r\n",
    "result['TARGET'] = result['TARGET'].astype(int)"
   ],
   "outputs": [],
   "metadata": {}
  },
  {
   "cell_type": "code",
   "execution_count": 892,
   "source": [
    "result['TARGET'].value_counts() # 202명 예측"
   ],
   "outputs": [
    {
     "output_type": "execute_result",
     "data": {
      "text/plain": [
       "0    11204\n",
       "1      202\n",
       "Name: TARGET, dtype: int64"
      ]
     },
     "metadata": {},
     "execution_count": 892
    }
   ],
   "metadata": {}
  },
  {
   "cell_type": "code",
   "execution_count": 893,
   "source": [
    "# 학적과 연계\r\n",
    "user = pd.read_csv('ORACLE 및 VC 추출데이터/학적(00학번~21학번).csv', encoding='cp949')"
   ],
   "outputs": [],
   "metadata": {}
  },
  {
   "cell_type": "code",
   "execution_count": 894,
   "source": [
    "user.rename(columns={'STD_NO':'USER_ID'}, inplace=True)\r\n",
    "user['USER_ID'] = user['USER_ID'].astype(str)"
   ],
   "outputs": [],
   "metadata": {}
  },
  {
   "cell_type": "code",
   "execution_count": 895,
   "source": [
    "result_finl = pd.merge(result, user[['USER_ID', 'KOR_NM', 'GEN_FG', 'SHYR_CD', 'COLG_NM', 'SUST_NM', 'MJ_NM', 'NATI_NM']], on='USER_ID', how='left')"
   ],
   "outputs": [],
   "metadata": {}
  },
  {
   "cell_type": "code",
   "execution_count": 896,
   "source": [
    "# 학습 부진 학생 목록\r\n",
    "std_lst = result_finl.loc[result_finl['TARGET'] == 1]"
   ],
   "outputs": [],
   "metadata": {}
  },
  {
   "cell_type": "code",
   "execution_count": 897,
   "source": [
    "std_lst.drop(['TARGET'], axis=1, inplace=True)"
   ],
   "outputs": [],
   "metadata": {}
  },
  {
   "cell_type": "code",
   "execution_count": 898,
   "source": [
    "std_lst"
   ],
   "outputs": [
    {
     "output_type": "execute_result",
     "data": {
      "text/plain": [
       "          USER_ID KOR_NM GEN_FG SHYR_CD   COLG_NM     SUST_NM    MJ_NM NATI_NM\n",
       "0      2001110176    정의훈     남자     4학년      문과대학         철학과      NaN    대한민국\n",
       "3      2005113136    김덕규     남자     4학년  바이오시스템대학    바이오환경과학과      NaN    대한민국\n",
       "7      2007113120    전효경     여자     4학년      예술대학      문예창작학과      NaN    대한민국\n",
       "8      2008110487    김경민     남자     4학년      이과대학         화학과      NaN    대한민국\n",
       "11     2008113006    전성수     남자     4학년   영상미디어대학      광고홍보학과      NaN    대한민국\n",
       "...           ...    ...    ...     ...       ...         ...      ...     ...\n",
       "11302  2021112956    문준호     남자     1학년      예술대학     스포츠문화학과      NaN    대한민국\n",
       "11318  2021113132    양승경     여자     1학년      공과대학     전자전기공학부      NaN    대한민국\n",
       "11319  2021113138    이진용     남자     1학년      공과대학  컴퓨터정보통신공학부  컴퓨터공학전공    대한민국\n",
       "11322  2021113142    박동현     남자     1학년      공과대학     건설환경공학과      NaN    대한민국\n",
       "11324  2021113150    윤원종     남자     1학년      공과대학    산업시스템공학과      NaN    대한민국\n",
       "\n",
       "[202 rows x 8 columns]"
      ],
      "text/html": [
       "<div>\n",
       "<style scoped>\n",
       "    .dataframe tbody tr th:only-of-type {\n",
       "        vertical-align: middle;\n",
       "    }\n",
       "\n",
       "    .dataframe tbody tr th {\n",
       "        vertical-align: top;\n",
       "    }\n",
       "\n",
       "    .dataframe thead th {\n",
       "        text-align: right;\n",
       "    }\n",
       "</style>\n",
       "<table border=\"1\" class=\"dataframe\">\n",
       "  <thead>\n",
       "    <tr style=\"text-align: right;\">\n",
       "      <th></th>\n",
       "      <th>USER_ID</th>\n",
       "      <th>KOR_NM</th>\n",
       "      <th>GEN_FG</th>\n",
       "      <th>SHYR_CD</th>\n",
       "      <th>COLG_NM</th>\n",
       "      <th>SUST_NM</th>\n",
       "      <th>MJ_NM</th>\n",
       "      <th>NATI_NM</th>\n",
       "    </tr>\n",
       "  </thead>\n",
       "  <tbody>\n",
       "    <tr>\n",
       "      <th>0</th>\n",
       "      <td>2001110176</td>\n",
       "      <td>정의훈</td>\n",
       "      <td>남자</td>\n",
       "      <td>4학년</td>\n",
       "      <td>문과대학</td>\n",
       "      <td>철학과</td>\n",
       "      <td>NaN</td>\n",
       "      <td>대한민국</td>\n",
       "    </tr>\n",
       "    <tr>\n",
       "      <th>3</th>\n",
       "      <td>2005113136</td>\n",
       "      <td>김덕규</td>\n",
       "      <td>남자</td>\n",
       "      <td>4학년</td>\n",
       "      <td>바이오시스템대학</td>\n",
       "      <td>바이오환경과학과</td>\n",
       "      <td>NaN</td>\n",
       "      <td>대한민국</td>\n",
       "    </tr>\n",
       "    <tr>\n",
       "      <th>7</th>\n",
       "      <td>2007113120</td>\n",
       "      <td>전효경</td>\n",
       "      <td>여자</td>\n",
       "      <td>4학년</td>\n",
       "      <td>예술대학</td>\n",
       "      <td>문예창작학과</td>\n",
       "      <td>NaN</td>\n",
       "      <td>대한민국</td>\n",
       "    </tr>\n",
       "    <tr>\n",
       "      <th>8</th>\n",
       "      <td>2008110487</td>\n",
       "      <td>김경민</td>\n",
       "      <td>남자</td>\n",
       "      <td>4학년</td>\n",
       "      <td>이과대학</td>\n",
       "      <td>화학과</td>\n",
       "      <td>NaN</td>\n",
       "      <td>대한민국</td>\n",
       "    </tr>\n",
       "    <tr>\n",
       "      <th>11</th>\n",
       "      <td>2008113006</td>\n",
       "      <td>전성수</td>\n",
       "      <td>남자</td>\n",
       "      <td>4학년</td>\n",
       "      <td>영상미디어대학</td>\n",
       "      <td>광고홍보학과</td>\n",
       "      <td>NaN</td>\n",
       "      <td>대한민국</td>\n",
       "    </tr>\n",
       "    <tr>\n",
       "      <th>...</th>\n",
       "      <td>...</td>\n",
       "      <td>...</td>\n",
       "      <td>...</td>\n",
       "      <td>...</td>\n",
       "      <td>...</td>\n",
       "      <td>...</td>\n",
       "      <td>...</td>\n",
       "      <td>...</td>\n",
       "    </tr>\n",
       "    <tr>\n",
       "      <th>11302</th>\n",
       "      <td>2021112956</td>\n",
       "      <td>문준호</td>\n",
       "      <td>남자</td>\n",
       "      <td>1학년</td>\n",
       "      <td>예술대학</td>\n",
       "      <td>스포츠문화학과</td>\n",
       "      <td>NaN</td>\n",
       "      <td>대한민국</td>\n",
       "    </tr>\n",
       "    <tr>\n",
       "      <th>11318</th>\n",
       "      <td>2021113132</td>\n",
       "      <td>양승경</td>\n",
       "      <td>여자</td>\n",
       "      <td>1학년</td>\n",
       "      <td>공과대학</td>\n",
       "      <td>전자전기공학부</td>\n",
       "      <td>NaN</td>\n",
       "      <td>대한민국</td>\n",
       "    </tr>\n",
       "    <tr>\n",
       "      <th>11319</th>\n",
       "      <td>2021113138</td>\n",
       "      <td>이진용</td>\n",
       "      <td>남자</td>\n",
       "      <td>1학년</td>\n",
       "      <td>공과대학</td>\n",
       "      <td>컴퓨터정보통신공학부</td>\n",
       "      <td>컴퓨터공학전공</td>\n",
       "      <td>대한민국</td>\n",
       "    </tr>\n",
       "    <tr>\n",
       "      <th>11322</th>\n",
       "      <td>2021113142</td>\n",
       "      <td>박동현</td>\n",
       "      <td>남자</td>\n",
       "      <td>1학년</td>\n",
       "      <td>공과대학</td>\n",
       "      <td>건설환경공학과</td>\n",
       "      <td>NaN</td>\n",
       "      <td>대한민국</td>\n",
       "    </tr>\n",
       "    <tr>\n",
       "      <th>11324</th>\n",
       "      <td>2021113150</td>\n",
       "      <td>윤원종</td>\n",
       "      <td>남자</td>\n",
       "      <td>1학년</td>\n",
       "      <td>공과대학</td>\n",
       "      <td>산업시스템공학과</td>\n",
       "      <td>NaN</td>\n",
       "      <td>대한민국</td>\n",
       "    </tr>\n",
       "  </tbody>\n",
       "</table>\n",
       "<p>202 rows × 8 columns</p>\n",
       "</div>"
      ]
     },
     "metadata": {},
     "execution_count": 898
    }
   ],
   "metadata": {}
  },
  {
   "cell_type": "code",
   "execution_count": 899,
   "source": [
    "# 저장\r\n",
    "# std_lst.to_csv('2021학년도_2학기_학습부진학생_예측명단(1224_2).csv', index=False, encoding='cp949')"
   ],
   "outputs": [],
   "metadata": {}
  }
 ],
 "metadata": {
  "orig_nbformat": 4,
  "language_info": {
   "name": "python",
   "version": "3.7.9",
   "mimetype": "text/x-python",
   "codemirror_mode": {
    "name": "ipython",
    "version": 3
   },
   "pygments_lexer": "ipython3",
   "nbconvert_exporter": "python",
   "file_extension": ".py"
  },
  "kernelspec": {
   "name": "python3",
   "display_name": "Python 3.7.9 64-bit ('USER': virtualenv)"
  },
  "interpreter": {
   "hash": "42588fd11209419b7c81abe23e31a1d2101f60811b02170c268e57ebb57d5d9a"
  }
 },
 "nbformat": 4,
 "nbformat_minor": 2
}