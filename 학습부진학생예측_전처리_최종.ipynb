{
 "cells": [
  {
   "cell_type": "markdown",
   "source": [
    "## 학습 부진 학생 예측  - 전처리"
   ],
   "metadata": {}
  },
  {
   "cell_type": "markdown",
   "source": [
    "### 0. 라이브러리 호출"
   ],
   "metadata": {}
  },
  {
   "cell_type": "code",
   "execution_count": 1,
   "source": [
    "# Library\r\n",
    "import pandas as pd\r\n",
    "import numpy as np\r\n",
    "from tqdm import tqdm\r\n",
    "\r\n",
    "import warnings\r\n",
    "warnings.filterwarnings(action='ignore')"
   ],
   "outputs": [],
   "metadata": {}
  },
  {
   "cell_type": "markdown",
   "source": [
    "### 1. 웹엑스 데이터 처리"
   ],
   "metadata": {}
  },
  {
   "cell_type": "code",
   "execution_count": 2,
   "source": [
    "# 2020학년도 1학기 - 2021학년도 1학기\r\n",
    "data1 = pd.read_csv('Webex 학습 기록/Webex 학습 기록_202110150923_01.csv', encoding='cp949')\r\n",
    "data2 = pd.read_csv('Webex 학습 기록/Webex 학습 기록_202110150932_02.csv', encoding='cp949')\r\n",
    "data3 = pd.read_csv('Webex 학습 기록/Webex 학습 기록_202110150942_03.csv', encoding='cp949')\r\n",
    "data4 = pd.read_csv('Webex 학습 기록/Webex 학습 기록_202110150948_04.csv', encoding='cp949')\r\n",
    "data5 = pd.read_csv('Webex 학습 기록/Webex 학습 기록_202110150954_05.csv', encoding='cp949')\r\n",
    "data6 = pd.read_csv('Webex 학습 기록/Webex 학습 기록_202110151000_06.csv', encoding='cp949')\r\n",
    "data7 = pd.read_csv('Webex 학습 기록/Webex 학습 기록_202110151007_07.csv', encoding='cp949')\r\n",
    "data8 = pd.read_csv('Webex 학습 기록/Webex 학습 기록_202110151015_08.csv', encoding='cp949')\r\n",
    "data9 = pd.read_csv('Webex 학습 기록/Webex 학습 기록_202110151021_09.csv', encoding='cp949')\r\n",
    "data10 = pd.read_csv('Webex 학습 기록/Webex 학습 기록_202110151025_10.csv', encoding='cp949')\r\n",
    "data11 = pd.read_csv('Webex 학습 기록/Webex 학습 기록_202110151029_11.csv', encoding='cp949')\r\n",
    "data12 = pd.read_csv('Webex 학습 기록/Webex 학습 기록_202110151033_12.csv', encoding='cp949')\r\n",
    "\r\n",
    "\r\n",
    "# 2021학년도 2학기\r\n",
    "data13 = pd.read_csv('Webex 학습 기록/Webex 학습 기록_2021학년도_2학기.csv', encoding='cp949')"
   ],
   "outputs": [],
   "metadata": {}
  },
  {
   "cell_type": "code",
   "execution_count": 3,
   "source": [
    "# 데이터타입 변경\r\n",
    "data1.loc[:, ['USER_ID']] = data1.loc[:, ['USER_ID']].astype('str')\r\n",
    "data2.loc[:, ['USER_ID']] = data2.loc[:, ['USER_ID']].astype('str')\r\n",
    "data3.loc[:, ['USER_ID']] = data3.loc[:, ['USER_ID']].astype('str')\r\n",
    "data4.loc[:, ['USER_ID']] = data4.loc[:, ['USER_ID']].astype('str')\r\n",
    "data5.loc[:, ['USER_ID']] = data5.loc[:, ['USER_ID']].astype('str')\r\n",
    "data6.loc[:, ['USER_ID']] = data6.loc[:, ['USER_ID']].astype('str')\r\n",
    "data7.loc[:, ['USER_ID']] = data7.loc[:, ['USER_ID']].astype('str')\r\n",
    "data8.loc[:, ['USER_ID']] = data8.loc[:, ['USER_ID']].astype('str')\r\n",
    "data9.loc[:, ['USER_ID']] = data9.loc[:, ['USER_ID']].astype('str')\r\n",
    "data10.loc[:, ['USER_ID']] = data10.loc[:, ['USER_ID']].astype('str')\r\n",
    "data11.loc[:, ['USER_ID']] = data11.loc[:, ['USER_ID']].astype('str')\r\n",
    "data12.loc[:, ['USER_ID']] = data12.loc[:, ['USER_ID']].astype('str')\r\n",
    "data13.loc[:, ['USER_ID']] = data13.loc[:, ['USER_ID']].astype('str')"
   ],
   "outputs": [],
   "metadata": {}
  },
  {
   "cell_type": "code",
   "execution_count": 4,
   "source": [
    "# 병합\r\n",
    "data_train = pd.concat([data1, data2, data3, data4, data5, data6, data7, data8, data9, data10, data11, data12])\r\n",
    "data_test = data13"
   ],
   "outputs": [],
   "metadata": {}
  },
  {
   "cell_type": "code",
   "execution_count": 5,
   "source": [
    "# 학번, 시간순으로 정렬\r\n",
    "data_train.sort_values(by=['USER_ID', 'JOIN_TIME'], ascending=True, inplace=True)\r\n",
    "data_test.sort_values(by=['USER_ID', 'JOIN_TIME'], ascending=True, inplace=True)"
   ],
   "outputs": [],
   "metadata": {}
  },
  {
   "cell_type": "code",
   "execution_count": 6,
   "source": [
    "# 학번이 10자리가 아니면 제거\r\n",
    "data_train = data_train.loc[data_train['USER_ID'].str.len() == 10]\r\n",
    "data_test = data_test.loc[data_test['USER_ID'].str.len() == 10]"
   ],
   "outputs": [],
   "metadata": {}
  },
  {
   "cell_type": "code",
   "execution_count": 7,
   "source": [
    "# NEW_ID 생성하기 (학번+강의ID)\r\n",
    "data_train['NEW_ID'] = data_train['USER_ID'] + data_train['COURSE_ID']\r\n",
    "data_test['NEW_ID'] = data_test['USER_ID'] + data_test['COURSE_ID']"
   ],
   "outputs": [],
   "metadata": {}
  },
  {
   "cell_type": "code",
   "execution_count": 8,
   "source": [
    "# 필요한 컬럼만 추출\r\n",
    "data_train = data_train[['NEW_ID', 'COURSE_ID', 'LESSON_ELEMENT_ID', 'USER_ID', 'JOIN_TIME', 'LEAVE_TIME', 'DURATION', 'CLIENT_AGENT']]\r\n",
    "data_test = data_test[['NEW_ID', 'COURSE_ID', 'CONTENTS_ID', 'USER_ID', 'JOIN_TIME', 'LEAVE_TIME', 'DURATION', 'clientAgent']]"
   ],
   "outputs": [],
   "metadata": {}
  },
  {
   "cell_type": "code",
   "execution_count": 9,
   "source": [
    "# 컬럼명 변경\r\n",
    "data_test.rename(columns={'CONTENTS_ID':'LESSON_ELEMENT_ID', 'clientAgent':'CLIENT_AGENT'}, inplace=True)"
   ],
   "outputs": [],
   "metadata": {}
  },
  {
   "cell_type": "markdown",
   "source": [
    "#### 1-1. 시간 관련 전처리"
   ],
   "metadata": {}
  },
  {
   "cell_type": "code",
   "execution_count": 10,
   "source": [
    "# training data는 2020년 2학기 - 2021년 1학기로 한다.\r\n",
    "# test data는 2021학년도 2학기로 한다.\r\n",
    "# 비율로 할거라서 주차는 상관없이 처리한다."
   ],
   "outputs": [],
   "metadata": {}
  },
  {
   "cell_type": "code",
   "execution_count": 11,
   "source": [
    "# data_train에 2020년 1학기 데이터 drop (14건 밖에 없음)\r\n",
    "idx = data_train.loc[data_train['NEW_ID'].str.contains('S2020U0002001')].index\r\n",
    "data_train.drop(idx, inplace=True)"
   ],
   "outputs": [],
   "metadata": {}
  },
  {
   "cell_type": "code",
   "execution_count": 12,
   "source": [
    "# data_train에 일부 2021학년도 2학기 데이터 섞여있음 > 삭제\r\n",
    "idx = data_train.loc[data_train['NEW_ID'].str.contains('S2021U0002003')].index\r\n",
    "data_train.drop(idx, inplace=True)"
   ],
   "outputs": [],
   "metadata": {}
  },
  {
   "cell_type": "code",
   "execution_count": 13,
   "source": [
    "# data_test에 일부 2021학년도 1학기 데이터 섞여있음 > 삭제\r\n",
    "idx = data_test.loc[data_test['NEW_ID'].str.contains('S2021U0002001')].index\r\n",
    "data_test.drop(idx, inplace=True)\r\n",
    "\r\n",
    "# 2020년도 1학기도 1개 있음 (왜..?) > 삭제\r\n",
    "idx = data_test.loc[data_test['NEW_ID'].str.contains('S2020U0002001')].index\r\n",
    "data_test.drop(idx, inplace=True)\r\n",
    "\r\n",
    "# 2020년도 2학기도 1개 있음 (왜..?) > 삭제\r\n",
    "idx = data_test.loc[data_test['NEW_ID'].str.contains('S2020U0002003')].index\r\n",
    "data_test.drop(idx, inplace=True)"
   ],
   "outputs": [],
   "metadata": {}
  },
  {
   "cell_type": "code",
   "execution_count": 14,
   "source": [
    "# 여름계절학기 drop (겨울 계절 데이터는 없음)\r\n",
    "idx = data_train[data_train['NEW_ID'].str.contains('S2021U0002002')].index\r\n",
    "data_train.drop(idx, inplace=True)"
   ],
   "outputs": [],
   "metadata": {}
  },
  {
   "cell_type": "code",
   "execution_count": 15,
   "source": [
    "data_test.dropna(inplace=True)"
   ],
   "outputs": [],
   "metadata": {}
  },
  {
   "cell_type": "code",
   "execution_count": 16,
   "source": [
    "data_train.reset_index(drop=True, inplace=True)\r\n",
    "data_test.reset_index(drop=True, inplace=True)"
   ],
   "outputs": [],
   "metadata": {}
  },
  {
   "cell_type": "markdown",
   "source": [
    "#### 웹/모바일 시간 나누기"
   ],
   "metadata": {}
  },
  {
   "cell_type": "code",
   "execution_count": 17,
   "source": [
    "# 웹/모바일 접속기기에 따른 수강시간 계산\r\n",
    "data_train.insert(8, 'WEB_STUDY_TIME', '')\r\n",
    "data_train.insert(9, 'MOBILE_STUDY_TIME', '')\r\n",
    "\r\n",
    "data_test.insert(8, 'WEB_STUDY_TIME', '')\r\n",
    "data_test.insert(9, 'MOBILE_STUDY_TIME', '')"
   ],
   "outputs": [],
   "metadata": {}
  },
  {
   "cell_type": "code",
   "execution_count": 18,
   "source": [
    "# 웹 접속시간 계산\r\n",
    "\r\n",
    "# 윈도우\r\n",
    "a_train = data_train.loc[data_train['CLIENT_AGENT'].str.contains('WINDOWS')]\r\n",
    "a_train['WEB_STUDY_TIME'] = np.where(a_train['CLIENT_AGENT'].str.contains('WINDOWS'), a_train['DURATION'], '')\r\n",
    "\r\n",
    "a_test = data_test.loc[data_test['CLIENT_AGENT'].str.contains('WINDOWS')]\r\n",
    "a_test['WEB_STUDY_TIME'] = np.where(a_test['CLIENT_AGENT'].str.contains('WINDOWS'), a_test['DURATION'], '')"
   ],
   "outputs": [],
   "metadata": {}
  },
  {
   "cell_type": "code",
   "execution_count": 19,
   "source": [
    "# 맥\r\n",
    "b_train = data_train.loc[data_train['CLIENT_AGENT'].str.contains('MAC')]\r\n",
    "b_train['WEB_STUDY_TIME'] = np.where(b_train['CLIENT_AGENT'].str.contains('MAC'), b_train['DURATION'], '')\r\n",
    "\r\n",
    "b_test = data_test.loc[data_test['CLIENT_AGENT'].str.contains('MAC')]\r\n",
    "b_test['WEB_STUDY_TIME'] = np.where(b_test['CLIENT_AGENT'].str.contains('MAC'), b_test['DURATION'], '')"
   ],
   "outputs": [],
   "metadata": {}
  },
  {
   "cell_type": "code",
   "execution_count": 20,
   "source": [
    "# WEB BASED THIN CLIENT\r\n",
    "c_train = data_train.loc[data_train['CLIENT_AGENT'].str.contains('WEB BASED THIN CLIENT')]\r\n",
    "c_train['WEB_STUDY_TIME'] = np.where(c_train['CLIENT_AGENT'].str.contains('WEB BASED THIN CLIENT'), c_train['DURATION'], '')\r\n",
    "\r\n",
    "c_test = data_test.loc[data_test['CLIENT_AGENT'].str.contains('WEB BASED THIN CLIENT')]\r\n",
    "c_test['WEB_STUDY_TIME'] = np.where(c_test['CLIENT_AGENT'].str.contains('WEB BASED THIN CLIENT'), c_test['DURATION'], '')"
   ],
   "outputs": [],
   "metadata": {}
  },
  {
   "cell_type": "code",
   "execution_count": 21,
   "source": [
    "# 웹 데이터 병합\r\n",
    "train_pc = pd.concat([a_train, b_train, c_train])\r\n",
    "test_pc = pd.concat([a_test, b_test, c_test])"
   ],
   "outputs": [],
   "metadata": {}
  },
  {
   "cell_type": "code",
   "execution_count": 22,
   "source": [
    "# 모바일 접속시간 계산\r\n",
    "\r\n",
    "# IPHONE\r\n",
    "d_train = data_train.loc[data_train['CLIENT_AGENT'].str.contains('IPHONE')]\r\n",
    "d_train['MOBILE_STUDY_TIME'] = np.where(d_train['CLIENT_AGENT'].str.contains('IPHONE'), d_train['DURATION'], '')\r\n",
    "\r\n",
    "d_test = data_test.loc[data_test['CLIENT_AGENT'].str.contains('IPHONE')]\r\n",
    "d_test['MOBILE_STUDY_TIME'] = np.where(d_test['CLIENT_AGENT'].str.contains('IPHONE'), d_test['DURATION'], '')"
   ],
   "outputs": [],
   "metadata": {}
  },
  {
   "cell_type": "code",
   "execution_count": 23,
   "source": [
    "# Android\r\n",
    "e_train = data_train.loc[data_train['CLIENT_AGENT'].str.contains('Android')]\r\n",
    "e_train['MOBILE_STUDY_TIME'] = np.where(e_train['CLIENT_AGENT'].str.contains('Android'), e_train['DURATION'], '')\r\n",
    "\r\n",
    "e_test = data_test.loc[data_test['CLIENT_AGENT'].str.contains('Android')]\r\n",
    "e_test['MOBILE_STUDY_TIME'] = np.where(e_test['CLIENT_AGENT'].str.contains('Android'), e_test['DURATION'], '')"
   ],
   "outputs": [],
   "metadata": {}
  },
  {
   "cell_type": "code",
   "execution_count": 24,
   "source": [
    "# Video device\r\n",
    "f_train = data_train.loc[data_train['CLIENT_AGENT'].str.contains('Video device')]\r\n",
    "f_train['MOBILE_STUDY_TIME'] = np.where(f_train['CLIENT_AGENT'].str.contains('Video device'), f_train['DURATION'], '')\r\n",
    "\r\n",
    "f_test = data_test.loc[data_test['CLIENT_AGENT'].str.contains('Video device')]\r\n",
    "f_test['MOBILE_STUDY_TIME'] = np.where(f_test['CLIENT_AGENT'].str.contains('Video device'), f_test['DURATION'], '')"
   ],
   "outputs": [],
   "metadata": {}
  },
  {
   "cell_type": "code",
   "execution_count": 25,
   "source": [
    "# IPAD\r\n",
    "g_train = data_train.loc[data_train['CLIENT_AGENT'].str.contains('IPAD')]\r\n",
    "g_train['MOBILE_STUDY_TIME'] = np.where(g_train['CLIENT_AGENT'].str.contains('IPAD'), g_train['DURATION'], '')\r\n",
    "\r\n",
    "g_test = data_test.loc[data_test['CLIENT_AGENT'].str.contains('IPAD')]\r\n",
    "g_test['MOBILE_STUDY_TIME'] = np.where(g_test['CLIENT_AGENT'].str.contains('IPAD'), g_test['DURATION'], '')"
   ],
   "outputs": [],
   "metadata": {}
  },
  {
   "cell_type": "code",
   "execution_count": 26,
   "source": [
    "# 모바일 데이터 병합\r\n",
    "train_mobile = pd.concat([d_train, e_train, f_train, g_train])\r\n",
    "test_mobile = pd.concat([d_test, e_test, f_test, g_test])"
   ],
   "outputs": [],
   "metadata": {}
  },
  {
   "cell_type": "code",
   "execution_count": 27,
   "source": [
    "# 웹/모바일 데이터 합치기\r\n",
    "data_train_new = pd.concat([train_pc, train_mobile])\r\n",
    "data_test_new = pd.concat([test_pc, test_mobile])"
   ],
   "outputs": [],
   "metadata": {}
  },
  {
   "cell_type": "code",
   "execution_count": 28,
   "source": [
    "# 웹 또는 모바일로 수업을 듣지 않았으면 0으로 처리\r\n",
    "data_train_new['WEB_STUDY_TIME'] = data_train_new['WEB_STUDY_TIME'].replace('', '0')\r\n",
    "data_train_new['MOBILE_STUDY_TIME'] = data_train_new['MOBILE_STUDY_TIME'].replace('', '0')\r\n",
    "\r\n",
    "data_test_new['WEB_STUDY_TIME'] = data_test_new['WEB_STUDY_TIME'].replace('', '0')\r\n",
    "data_test_new['MOBILE_STUDY_TIME'] = data_test_new['MOBILE_STUDY_TIME'].replace('', '0')"
   ],
   "outputs": [],
   "metadata": {}
  },
  {
   "cell_type": "markdown",
   "source": [
    "### 1-1. 강의 수강 시간 등"
   ],
   "metadata": {}
  },
  {
   "cell_type": "code",
   "execution_count": 29,
   "source": [
    "# 데이터 타입 변경\r\n",
    "data_train_new.loc[:, ['WEB_STUDY_TIME']] = data_train_new.loc[:, ['WEB_STUDY_TIME']].astype('float')\r\n",
    "data_train_new.loc[:, ['MOBILE_STUDY_TIME']] = data_train_new.loc[:, ['MOBILE_STUDY_TIME']].astype('float')\r\n",
    "\r\n",
    "data_test_new.loc[:, ['WEB_STUDY_TIME']] = data_test_new.loc[:, ['WEB_STUDY_TIME']].astype('float')\r\n",
    "data_test_new.loc[:, ['MOBILE_STUDY_TIME']] = data_test_new.loc[:, ['MOBILE_STUDY_TIME']].astype('float')"
   ],
   "outputs": [],
   "metadata": {}
  },
  {
   "cell_type": "code",
   "execution_count": 30,
   "source": [
    "# 한 차시에 여러 번 접속했다면 시간을 합쳐준다.\r\n",
    "train_grp = data_train_new.groupby(['NEW_ID', 'LESSON_ELEMENT_ID']).sum()\r\n",
    "train_grp.reset_index(['NEW_ID', 'LESSON_ELEMENT_ID'], inplace=True)\r\n",
    "\r\n",
    "test_grp = data_test_new.groupby(['NEW_ID', 'LESSON_ELEMENT_ID']).sum()\r\n",
    "test_grp.reset_index(['NEW_ID', 'LESSON_ELEMENT_ID'], inplace=True)"
   ],
   "outputs": [],
   "metadata": {}
  },
  {
   "cell_type": "code",
   "execution_count": 31,
   "source": [
    "# NEW_ID 당 수강시간\r\n",
    "train_grp_2 = train_grp.groupby(['NEW_ID']).sum()\r\n",
    "train_grp_2.reset_index(['NEW_ID'], inplace=True)\r\n",
    "\r\n",
    "test_grp_2 = test_grp.groupby(['NEW_ID']).sum()\r\n",
    "test_grp_2.reset_index(['NEW_ID'], inplace=True)"
   ],
   "outputs": [],
   "metadata": {}
  },
  {
   "cell_type": "markdown",
   "source": [
    "### 1-2. 수강한 횟수"
   ],
   "metadata": {}
  },
  {
   "cell_type": "code",
   "execution_count": 32,
   "source": [
    "# 몇차시 수강했는지 횟수 카운트\r\n",
    "train_grp_cnt = train_grp.groupby(['NEW_ID']).count()\r\n",
    "train_grp_cnt.reset_index(['NEW_ID'], inplace=True)\r\n",
    "\r\n",
    "test_grp_cnt = test_grp.groupby(['NEW_ID']).count()\r\n",
    "test_grp_cnt.reset_index(['NEW_ID'], inplace=True)"
   ],
   "outputs": [],
   "metadata": {}
  },
  {
   "cell_type": "code",
   "execution_count": 33,
   "source": [
    "train_grp_cnt = train_grp_cnt[['NEW_ID', 'LESSON_ELEMENT_ID']]\r\n",
    "test_grp_cnt = test_grp_cnt[['NEW_ID', 'LESSON_ELEMENT_ID']]"
   ],
   "outputs": [],
   "metadata": {}
  },
  {
   "cell_type": "code",
   "execution_count": 34,
   "source": [
    "train_grp_cnt.rename(columns={'LESSON_ELEMENT_ID':'TAKEN_LEC_CNT'}, inplace=True)\r\n",
    "test_grp_cnt.rename(columns={'LESSON_ELEMENT_ID':'TAKEN_LEC_CNT'}, inplace=True)"
   ],
   "outputs": [],
   "metadata": {}
  },
  {
   "cell_type": "code",
   "execution_count": 35,
   "source": [
    "# COURSE_ID 기준으로 강의 횟수 붙이기\r\n",
    "crs_att_cnt_train = pd.merge(train_grp_2, train_grp_cnt, on='NEW_ID', how='left')\r\n",
    "crs_att_cnt_test = pd.merge(test_grp_2, test_grp_cnt, on='NEW_ID', how='left')"
   ],
   "outputs": [],
   "metadata": {}
  },
  {
   "cell_type": "code",
   "execution_count": 36,
   "source": [
    "# COURSE_ID 컬럼 생성\r\n",
    "crs_att_cnt_train.insert(1, 'COURSE_ID', '')\r\n",
    "for i in tqdm(range(len(crs_att_cnt_train))):\r\n",
    "    crs_att_cnt_train['COURSE_ID'].iloc[i] = crs_att_cnt_train['NEW_ID'].iloc[i][10:]\r\n",
    "\r\n",
    "crs_att_cnt_test.insert(1, 'COURSE_ID', '')\r\n",
    "for i in tqdm(range(len(crs_att_cnt_test))):\r\n",
    "    crs_att_cnt_test['COURSE_ID'].iloc[i] = crs_att_cnt_test['NEW_ID'].iloc[i][10:]"
   ],
   "outputs": [
    {
     "output_type": "stream",
     "name": "stderr",
     "text": [
      "100%|██████████| 42690/42690 [00:10<00:00, 3973.72it/s]\n",
      "100%|██████████| 81204/81204 [00:33<00:00, 2400.53it/s]\n"
     ]
    }
   ],
   "metadata": {}
  },
  {
   "cell_type": "code",
   "execution_count": 37,
   "source": [
    "# 학적 값이 없으면 drop\r\n",
    "crs_att_cnt_train.dropna(inplace=True)\r\n",
    "crs_att_cnt_test.dropna(inplace=True)"
   ],
   "outputs": [],
   "metadata": {}
  },
  {
   "cell_type": "code",
   "execution_count": 38,
   "source": [
    "crs_att_cnt_train.reset_index(inplace=True)\r\n",
    "crs_att_cnt_test.reset_index(inplace=True)"
   ],
   "outputs": [],
   "metadata": {}
  },
  {
   "cell_type": "code",
   "execution_count": 39,
   "source": [
    "crs_att_cnt_train.drop(['index'], axis=1, inplace=True)\r\n",
    "crs_att_cnt_test.drop(['index'], axis=1, inplace=True)"
   ],
   "outputs": [],
   "metadata": {}
  },
  {
   "cell_type": "markdown",
   "source": [
    "### 2. 학적 데이터"
   ],
   "metadata": {}
  },
  {
   "cell_type": "code",
   "execution_count": 40,
   "source": [
    "# 학적 데이터\r\n",
    "user = pd.read_csv('ORACLE 및 VC 추출데이터/학적(00학번~21학번).csv', encoding='cp949')"
   ],
   "outputs": [],
   "metadata": {}
  },
  {
   "cell_type": "code",
   "execution_count": 41,
   "source": [
    "user.rename(columns={'STD_NO':'USER_ID'}, inplace=True)"
   ],
   "outputs": [],
   "metadata": {}
  },
  {
   "cell_type": "code",
   "execution_count": 42,
   "source": [
    "# 학부생만 추출\r\n",
    "user = user.loc[user['UNIV_GRSC_FG'] == 'U0001001']"
   ],
   "outputs": [],
   "metadata": {}
  },
  {
   "cell_type": "code",
   "execution_count": 43,
   "source": [
    "# 교류대학소속, 시간제학과, 미래융합대학 소속 학생 제외\r\n",
    "idx = user.loc[user['COLG_NM'] == '교류대학'].index\r\n",
    "user.drop(idx, inplace=True)\r\n",
    "\r\n",
    "idx = user.loc[user['COLG_NM'] == '시간제대학'].index\r\n",
    "user.drop(idx, inplace=True)\r\n",
    "\r\n",
    "idx = user.loc[user['COLG_NM'] == '미래융합대학'].index\r\n",
    "user.drop(idx, inplace=True)"
   ],
   "outputs": [],
   "metadata": {}
  },
  {
   "cell_type": "code",
   "execution_count": 44,
   "source": [
    "user['USER_ID'] = user['USER_ID'].astype('str')"
   ],
   "outputs": [],
   "metadata": {}
  },
  {
   "cell_type": "code",
   "execution_count": 45,
   "source": [
    "# 학번이 10자리가 아니면 제거\r\n",
    "user = user.loc[user['USER_ID'].str.len() == 10]"
   ],
   "outputs": [],
   "metadata": {}
  },
  {
   "cell_type": "markdown",
   "source": [
    "#### 2-1. 국적"
   ],
   "metadata": {}
  },
  {
   "cell_type": "code",
   "execution_count": 46,
   "source": [
    "# 지역 2개로 줄이기 (국내/해외)\r\n",
    "user.insert(18, 'LOC_FG', '')\r\n",
    "for i in tqdm(range(len(user))):\r\n",
    "    if user['NATI_NM'].iloc[i] == '대한민국':\r\n",
    "        user['LOC_FG'].iloc[i] = '국내'\r\n",
    "    else:\r\n",
    "        user['LOC_FG'].iloc[i] = '해외'"
   ],
   "outputs": [
    {
     "output_type": "stream",
     "name": "stderr",
     "text": [
      "100%|██████████| 78385/78385 [00:26<00:00, 2964.42it/s]\n"
     ]
    }
   ],
   "metadata": {}
  },
  {
   "cell_type": "markdown",
   "source": [
    "#### 2-1. 입학구분"
   ],
   "metadata": {}
  },
  {
   "cell_type": "code",
   "execution_count": 47,
   "source": [
    "# 입학구분(ENTR_SELT_FG2)에 값이 없으면 제거\r\n",
    "user.dropna(subset=['ENTR_SELT_FG2'], inplace=True)"
   ],
   "outputs": [],
   "metadata": {}
  },
  {
   "cell_type": "code",
   "execution_count": 48,
   "source": [
    "# 계열 정리\r\n",
    "user.insert(19, 'ENTR_FG', '')\r\n",
    "for i in tqdm(range(len(user))):\r\n",
    "    if '정시' in user['ENTR_SELT_FG2'].iloc[i] :\r\n",
    "        user['ENTR_FG'].iloc[i] = '정시'\r\n",
    "    elif '수시' in user['ENTR_SELT_FG2'].iloc[i] :\r\n",
    "        user['ENTR_FG'].iloc[i] = '수시'\r\n",
    "    elif '편입' in user['ENTR_SELT_FG2'].iloc[i] :\r\n",
    "        user['ENTR_FG'].iloc[i] = '편입'\r\n",
    "    elif '외국인' in user['ENTR_SELT_FG2'].iloc[i] :\r\n",
    "        user['ENTR_FG'].iloc[i] = '외국인'\r\n",
    "    elif '재외국민' in user['ENTR_SELT_FG2'].iloc[i] :\r\n",
    "        user['ENTR_FG'].iloc[i] = '재외국민'\r\n",
    "    elif '약학대학' in user['ENTR_SELT_FG2'].iloc[i] :\r\n",
    "        user['ENTR_FG'].iloc[i] = '약학대학'\r\n",
    "    elif '추가' in user['ENTR_SELT_FG2'].iloc[i] :\r\n",
    "        user['ENTR_FG'].iloc[i] = '추가'\r\n",
    "    else:\r\n",
    "        pass"
   ],
   "outputs": [
    {
     "output_type": "stream",
     "name": "stderr",
     "text": [
      "100%|██████████| 77414/77414 [00:26<00:00, 2930.20it/s]\n"
     ]
    }
   ],
   "metadata": {}
  },
  {
   "cell_type": "markdown",
   "source": [
    "#### 2-2. 재입학여부"
   ],
   "metadata": {}
  },
  {
   "cell_type": "code",
   "execution_count": 49,
   "source": [
    "# 재입학여부\r\n",
    "user.insert(20, 'RE_ENTR_YN', '')\r\n",
    "for i in tqdm(range(len(user))):\r\n",
    "    if user['RE_ENTR_DT'].isnull().iloc[i] == False :\r\n",
    "        user['RE_ENTR_YN'].iloc[i] = 'Y'\r\n",
    "    else:\r\n",
    "        user['RE_ENTR_YN'].iloc[i] = 'N'"
   ],
   "outputs": [
    {
     "output_type": "stream",
     "name": "stderr",
     "text": [
      "100%|██████████| 77414/77414 [00:37<00:00, 2062.15it/s]\n"
     ]
    }
   ],
   "metadata": {}
  },
  {
   "cell_type": "markdown",
   "source": [
    "### 4. 이클래스 접속 로그 전처리"
   ],
   "metadata": {}
  },
  {
   "cell_type": "code",
   "execution_count": 51,
   "source": [
    "# 2020학년도 2학기 자료\r\n",
    "ecl_20_2 = pd.read_excel('온라인학습로그/7. LM_LOG_COURSE_CONNECT (교과목접속로그)_2020_2.xlsx', sheet_name='Sheet1', engine='openpyxl')\r\n",
    "ecl_20_2_1 = pd.read_excel('온라인학습로그/7. LM_LOG_COURSE_CONNECT (교과목접속로그)_2020_2.xlsx', sheet_name='Sheet1_1', engine='openpyxl')\r\n",
    "ecl_20_2_1_2 = pd.read_excel('온라인학습로그/7. LM_LOG_COURSE_CONNECT (교과목접속로그)_2020_2.xlsx', sheet_name='Sheet1_1_2', engine='openpyxl')\r\n",
    "ecl_20_2_1_2_3 = pd.read_excel('온라인학습로그/7. LM_LOG_COURSE_CONNECT (교과목접속로그)_2020_2.xlsx', sheet_name='Sheet1_1_2_3', engine='openpyxl')\r\n",
    "ecl_20_2_1_2_3_4 = pd.read_excel('온라인학습로그/7. LM_LOG_COURSE_CONNECT (교과목접속로그)_2020_2.xlsx', sheet_name='Sheet1_1_2_3_4', engine='openpyxl')"
   ],
   "outputs": [],
   "metadata": {}
  },
  {
   "cell_type": "code",
   "execution_count": 52,
   "source": [
    "# 필요한 열만 추리기\r\n",
    "ecl_20_2 = ecl_20_2[['COURSE_ID', 'USER_ID', 'REG_DATE']]\r\n",
    "ecl_20_2_1= ecl_20_2_1[['COURSE_ID', 'USER_ID', 'REG_DATE']]\r\n",
    "ecl_20_2_1_2= ecl_20_2_1_2[['COURSE_ID', 'USER_ID', 'REG_DATE']]\r\n",
    "ecl_20_2_1_2_3= ecl_20_2_1_2_3[['COURSE_ID', 'USER_ID', 'REG_DATE']]\r\n",
    "ecl_20_2_1_2_3_4= ecl_20_2_1_2_3_4[['COURSE_ID', 'USER_ID', 'REG_DATE']]"
   ],
   "outputs": [],
   "metadata": {}
  },
  {
   "cell_type": "code",
   "execution_count": 53,
   "source": [
    "# 2020년 교과목접속로그 병합\r\n",
    "ecl_2020 = pd.concat([ecl_20_2, ecl_20_2_1, ecl_20_2_1_2, ecl_20_2_1_2_3, ecl_20_2_1_2_3_4])"
   ],
   "outputs": [],
   "metadata": {}
  },
  {
   "cell_type": "code",
   "execution_count": 54,
   "source": [
    "# 2021년 1학기 데이터\r\n",
    "ecl_21_1 = pd.read_excel('온라인학습로그/7. LM_LOG_COURSE_CONNECT (교과목접속로그)_2021_1.xlsx', sheet_name='Sheet1', engine='openpyxl')\r\n",
    "ecl_21_1_1 = pd.read_excel('온라인학습로그/7. LM_LOG_COURSE_CONNECT (교과목접속로그)_2021_1.xlsx', sheet_name='Sheet1_1', engine='openpyxl')\r\n",
    "ecl_21_1_1_2 = pd.read_excel('온라인학습로그/7. LM_LOG_COURSE_CONNECT (교과목접속로그)_2021_1.xlsx', sheet_name='Sheet1_1_2', engine='openpyxl')\r\n",
    "ecl_21_1_1_2_3 = pd.read_excel('온라인학습로그/7. LM_LOG_COURSE_CONNECT (교과목접속로그)_2021_1.xlsx', sheet_name='Sheet1_1_2_3', engine='openpyxl')\r\n",
    "ecl_21_1_1_2_3_4 = pd.read_excel('온라인학습로그/7. LM_LOG_COURSE_CONNECT (교과목접속로그)_2021_1.xlsx', sheet_name='Sheet1_1_2_3_4', engine='openpyxl')"
   ],
   "outputs": [],
   "metadata": {}
  },
  {
   "cell_type": "code",
   "execution_count": 55,
   "source": [
    "# 필요한 열만 추리기\r\n",
    "ecl_21_1 = ecl_21_1[['COURSE_ID', 'USER_ID', 'REG_DATE']]\r\n",
    "ecl_21_1_1= ecl_21_1_1[['COURSE_ID', 'USER_ID', 'REG_DATE']]\r\n",
    "ecl_21_1_1_2= ecl_21_1_1_2[['COURSE_ID', 'USER_ID', 'REG_DATE']]\r\n",
    "ecl_21_1_1_2_3= ecl_21_1_1_2_3[['COURSE_ID', 'USER_ID', 'REG_DATE']]\r\n",
    "ecl_21_1_1_2_3_4= ecl_21_1_1_2_3_4[['COURSE_ID', 'USER_ID', 'REG_DATE']]"
   ],
   "outputs": [],
   "metadata": {}
  },
  {
   "cell_type": "code",
   "execution_count": 56,
   "source": [
    "# 21년 1학기 데이터 병합\r\n",
    "ecl_2021_1 = pd.concat([ecl_21_1, ecl_21_1_1, ecl_21_1_1_2, ecl_21_1_1_2_3, ecl_21_1_1_2_3_4])"
   ],
   "outputs": [],
   "metadata": {}
  },
  {
   "cell_type": "code",
   "execution_count": 58,
   "source": [
    "# 2021학년도 2학기\r\n",
    "ecl_21_2 = pd.read_excel('온라인학습로그/7. LM_LOG_COURSE_CONNECT (교과목접속로그)_2021_8월.xlsx', engine='openpyxl')\r\n",
    "ecl_21_2_1 = pd.read_excel('온라인학습로그/7. LM_LOG_COURSE_CONNECT (교과목접속로그)_2021_9월(1).xlsx', engine='openpyxl')\r\n",
    "ecl_21_2_2 = pd.read_excel('온라인학습로그/7. LM_LOG_COURSE_CONNECT (교과목접속로그)_2021_9월(2).xlsx', engine='openpyxl')\r\n",
    "ecl_21_2_3 = pd.read_excel('온라인학습로그/7. LM_LOG_COURSE_CONNECT (교과목접속로그)_2021_10월(1).xlsx', engine='openpyxl')\r\n",
    "ecl_21_2_4 = pd.read_excel('온라인학습로그/7. LM_LOG_COURSE_CONNECT (교과목접속로그)_2021_10월(2).xlsx', engine='openpyxl')\r\n",
    "ecl_21_2_5 = pd.read_excel('온라인학습로그/7. LM_LOG_COURSE_CONNECT (교과목접속로그)_2021_11월(1).xlsx', engine='openpyxl')\r\n",
    "ecl_21_2_6 = pd.read_excel('온라인학습로그/7. LM_LOG_COURSE_CONNECT (교과목접속로그)_2021_11월(2).xlsx', engine='openpyxl')"
   ],
   "outputs": [],
   "metadata": {}
  },
  {
   "cell_type": "code",
   "execution_count": 59,
   "source": [
    "# 필요한 열만 추리기\r\n",
    "ecl_21_2 = ecl_21_2[['COURSE_ID', 'USER_ID', 'REG_DATE']]\r\n",
    "ecl_21_2_1 = ecl_21_2_1[['COURSE_ID', 'USER_ID', 'REG_DATE']]\r\n",
    "ecl_21_2_2 = ecl_21_2_2[['COURSE_ID', 'USER_ID', 'REG_DATE']]\r\n",
    "ecl_21_2_3 = ecl_21_2_3[['COURSE_ID', 'USER_ID', 'REG_DATE']]\r\n",
    "ecl_21_2_4 = ecl_21_2_4[['COURSE_ID', 'USER_ID', 'REG_DATE']]\r\n",
    "ecl_21_2_5 = ecl_21_2_5[['COURSE_ID', 'USER_ID', 'REG_DATE']]\r\n",
    "ecl_21_2_6 = ecl_21_2_6[['COURSE_ID', 'USER_ID', 'REG_DATE']]"
   ],
   "outputs": [],
   "metadata": {}
  },
  {
   "cell_type": "code",
   "execution_count": 60,
   "source": [
    "# 21년 2학기 데이터 병합\r\n",
    "ecl_2021_2 = pd.concat([ecl_21_2, ecl_21_2_1, ecl_21_2_2, ecl_21_2_3, ecl_21_2_4, ecl_21_2_5, ecl_21_2_6])"
   ],
   "outputs": [],
   "metadata": {}
  },
  {
   "cell_type": "code",
   "execution_count": 62,
   "source": [
    "# 2020-2021 병합\r\n",
    "ecl_all = pd.concat([ecl_2020, ecl_2021_1, ecl_2021_2])"
   ],
   "outputs": [],
   "metadata": {}
  },
  {
   "cell_type": "code",
   "execution_count": 63,
   "source": [
    "# 강의ID와 학번 기준으로 카운트\r\n",
    "ecl_grp_tmp = ecl_all.groupby(['COURSE_ID', 'USER_ID']).count()\r\n",
    "ecl_grp_tmp.reset_index(['COURSE_ID', 'USER_ID'], inplace=True)"
   ],
   "outputs": [],
   "metadata": {}
  },
  {
   "cell_type": "code",
   "execution_count": 64,
   "source": [
    "ecl_grp_tmp.rename(columns={'REG_DATE':'ECL_CNT'}, inplace=True)"
   ],
   "outputs": [],
   "metadata": {}
  },
  {
   "cell_type": "code",
   "execution_count": 65,
   "source": [
    "# 정렬\r\n",
    "ecl_grp_tmp.sort_values(['USER_ID'], inplace=True)"
   ],
   "outputs": [],
   "metadata": {}
  },
  {
   "cell_type": "code",
   "execution_count": 66,
   "source": [
    "# 학번이 10자리가 아니면 제거\r\n",
    "ecl_grp_tmp = ecl_grp_tmp.loc[ecl_grp_tmp['USER_ID'].str.len() == 10]"
   ],
   "outputs": [],
   "metadata": {}
  },
  {
   "cell_type": "code",
   "execution_count": 67,
   "source": [
    "ecl_grp_tmp.reset_index(drop=True, inplace=True)"
   ],
   "outputs": [],
   "metadata": {}
  },
  {
   "cell_type": "code",
   "execution_count": 68,
   "source": [
    "# NEW_ID 생성\r\n",
    "ecl_grp_tmp.insert(0, 'NEW_ID', '')\r\n",
    "ecl_grp_tmp['NEW_ID'] = ecl_grp_tmp['USER_ID'] + ecl_grp_tmp['COURSE_ID']"
   ],
   "outputs": [],
   "metadata": {}
  },
  {
   "cell_type": "code",
   "execution_count": 69,
   "source": [
    "# NEW_ID 기준으로 이클래스 접속횟수를 붙이기\r\n",
    "crs_att_cnt_train = pd.merge(crs_att_cnt_train, ecl_grp_tmp[['NEW_ID', 'USER_ID', 'ECL_CNT']], on='NEW_ID', how='left')\r\n",
    "crs_att_cnt_test = pd.merge(crs_att_cnt_test, ecl_grp_tmp[['NEW_ID', 'USER_ID', 'ECL_CNT']], on='NEW_ID', how='left')"
   ],
   "outputs": [],
   "metadata": {}
  },
  {
   "cell_type": "code",
   "execution_count": 70,
   "source": [
    "# COURSE_ID 컬럼 생성\r\n",
    "# crs_att_cnt_train.insert(1, 'COURSE_ID', '')\r\n",
    "# for i in tqdm(range(len(crs_att_cnt_train))):\r\n",
    "#     crs_att_cnt_train['COURSE_ID'].iloc[i] = crs_att_cnt_train['NEW_ID'].iloc[i][10:]\r\n",
    "\r\n",
    "# crs_att_cnt_test.insert(1, 'COURSE_ID', '')\r\n",
    "# for i in tqdm(range(len(crs_att_cnt_test))):\r\n",
    "#     crs_att_cnt_test['COURSE_ID'].iloc[i] = crs_att_cnt_test['NEW_ID'].iloc[i][10:]"
   ],
   "outputs": [],
   "metadata": {}
  },
  {
   "cell_type": "code",
   "execution_count": 71,
   "source": [
    "crs_att_cnt_train = crs_att_cnt_train[['NEW_ID', 'USER_ID', 'COURSE_ID', 'DURATION', 'WEB_STUDY_TIME', 'MOBILE_STUDY_TIME', 'TAKEN_LEC_CNT', 'ECL_CNT']]\r\n",
    "crs_att_cnt_test = crs_att_cnt_test[['NEW_ID', 'USER_ID', 'COURSE_ID', 'DURATION', 'WEB_STUDY_TIME', 'MOBILE_STUDY_TIME', 'TAKEN_LEC_CNT', 'ECL_CNT']]"
   ],
   "outputs": [],
   "metadata": {}
  },
  {
   "cell_type": "markdown",
   "source": [
    "### 4-1. 해당 학기 전체 수업 횟수"
   ],
   "metadata": {}
  },
  {
   "cell_type": "code",
   "execution_count": 72,
   "source": [
    "crs_20_2 = pd.read_csv('ORACLE 및 VC 추출데이터/2020_2학기_강의목록.csv')\r\n",
    "crs_21_1 = pd.read_csv('ORACLE 및 VC 추출데이터/2021_1학기_강의목록.csv')\r\n",
    "crs_21_2 = pd.read_csv('ORACLE 및 VC 추출데이터/2021_2학기_강의목록.csv')"
   ],
   "outputs": [],
   "metadata": {}
  },
  {
   "cell_type": "code",
   "execution_count": 73,
   "source": [
    "crs = pd.concat([crs_20_2, crs_21_1, crs_21_2])"
   ],
   "outputs": [],
   "metadata": {}
  },
  {
   "cell_type": "code",
   "execution_count": 109,
   "source": [
    "crs_cnt = crs.groupby(['COURSE_ID', 'CONTENTS_ID']).count()\r\n",
    "crs_cnt.reset_index(['COURSE_ID', 'CONTENTS_ID'], inplace=True)\r\n",
    "crs_cnt2 = crs_cnt.groupby(['COURSE_ID']).count()\r\n",
    "crs_cnt2.reset_index(['COURSE_ID'], inplace=True)"
   ],
   "outputs": [],
   "metadata": {}
  },
  {
   "cell_type": "code",
   "execution_count": 110,
   "source": [
    "crs_cnt2.rename(columns={'CONTENTS_ID':'ALL_LEC_CNT'}, inplace=True)"
   ],
   "outputs": [],
   "metadata": {}
  },
  {
   "cell_type": "code",
   "execution_count": 111,
   "source": [
    "train_new = pd.merge(crs_att_cnt_train, crs_cnt2, on='COURSE_ID', how='left')\r\n",
    "test_new = pd.merge(crs_att_cnt_test, crs_cnt2, on='COURSE_ID', how='left')"
   ],
   "outputs": [],
   "metadata": {}
  },
  {
   "cell_type": "code",
   "execution_count": 112,
   "source": [
    "# 테스트 데이터에 있는 2022학번 삭제\r\n",
    "test_new = test_new.drop(81201)\r\n",
    "test_new = test_new.drop(81202)\r\n",
    "test_new = test_new.drop(81203)"
   ],
   "outputs": [],
   "metadata": {}
  },
  {
   "cell_type": "markdown",
   "source": [
    "### 4-1. (테스트셋) 지금까지의 강의횟수"
   ],
   "metadata": {}
  },
  {
   "cell_type": "code",
   "execution_count": 113,
   "source": [
    "wk_tmp = pd.merge(data13[['COURSE_ID', 'CONTENTS_ID']], crs[['CONTENTS_ID', 'WEEK', 'LECTURE_NUM']], on='CONTENTS_ID', how='left')"
   ],
   "outputs": [],
   "metadata": {}
  },
  {
   "cell_type": "code",
   "execution_count": 114,
   "source": [
    "wk_unq = wk_tmp.drop_duplicates(['CONTENTS_ID'])"
   ],
   "outputs": [],
   "metadata": {}
  },
  {
   "cell_type": "code",
   "execution_count": 115,
   "source": [
    "wk_unq_grp = wk_unq.groupby(['COURSE_ID']).count()\r\n",
    "wk_unq_grp.reset_index(inplace=True)"
   ],
   "outputs": [],
   "metadata": {}
  },
  {
   "cell_type": "code",
   "execution_count": 116,
   "source": [
    "wk_unq_grp.rename(columns={'CONTENTS_ID':'WK_LEC_CNT'}, inplace=True)"
   ],
   "outputs": [],
   "metadata": {}
  },
  {
   "cell_type": "code",
   "execution_count": 117,
   "source": [
    "test_new_2 = pd.merge(test_new, wk_unq_grp[['COURSE_ID', 'WK_LEC_CNT']], on='COURSE_ID', how='left')"
   ],
   "outputs": [],
   "metadata": {}
  },
  {
   "cell_type": "markdown",
   "source": [
    "### 5. 학점 데이터"
   ],
   "metadata": {}
  },
  {
   "cell_type": "code",
   "execution_count": 84,
   "source": [
    "grd = pd.read_csv('ORACLE 및 VC 추출데이터/최종학점(2019~2021-1).csv',encoding='cp949')"
   ],
   "outputs": [],
   "metadata": {}
  },
  {
   "cell_type": "code",
   "execution_count": 85,
   "source": [
    "grd.rename(columns={'STD_NO':'USER_ID', 'KOR_NM':'GRADE'}, inplace=True)\r\n",
    "grd.loc[:, ['USER_ID']] = grd.loc[:, ['USER_ID']].astype('str')"
   ],
   "outputs": [],
   "metadata": {}
  },
  {
   "cell_type": "code",
   "execution_count": 86,
   "source": [
    "# 분반번호 없으면 1로 채우기\r\n",
    "grd['CLSS_NO'].fillna('1', inplace=True)"
   ],
   "outputs": [],
   "metadata": {}
  },
  {
   "cell_type": "code",
   "execution_count": 87,
   "source": [
    "# 분반번호 데이터타입 변경\r\n",
    "grd.loc[:, ['CLSS_NO']] = grd.loc[:, ['CLSS_NO']].astype('float')\r\n",
    "grd.loc[:, ['CLSS_NO']] = grd.loc[:, ['CLSS_NO']].astype('int')\r\n",
    "grd.loc[:, ['CLSS_NO']] = grd.loc[:, ['CLSS_NO']].astype('str')"
   ],
   "outputs": [],
   "metadata": {}
  },
  {
   "cell_type": "code",
   "execution_count": 88,
   "source": [
    "# 분반번호 두 자리로 맞추기\r\n",
    "for i in tqdm(range(len(grd))):\r\n",
    "    if len(grd['CLSS_NO'][i]) == 1:\r\n",
    "        grd['CLSS_NO'][i] = '0'+grd['CLSS_NO'][i]"
   ],
   "outputs": [
    {
     "output_type": "stream",
     "name": "stderr",
     "text": [
      "100%|██████████| 505202/505202 [40:57<00:00, 205.55it/s]\n"
     ]
    }
   ],
   "metadata": {}
  },
  {
   "cell_type": "code",
   "execution_count": 89,
   "source": [
    "grd.loc[:, ['YY']] = grd.loc[:, ['YY']].astype('str')\r\n",
    "grd.loc[:, ['SHTM_CD']] = grd.loc[:, ['SHTM_CD']].astype('str')\r\n",
    "grd.loc[:, ['HAKSU_NO']] = grd.loc[:, ['HAKSU_NO']].astype('str')"
   ],
   "outputs": [],
   "metadata": {}
  },
  {
   "cell_type": "code",
   "execution_count": 90,
   "source": [
    "# COURSE_ID 생성하기\r\n",
    "grd['COURSE_ID'] = 'S'+ grd['YY'] + grd['SHTM_CD'] + 'U' + grd['HAKSU_NO'] + grd['CLSS_NO']"
   ],
   "outputs": [],
   "metadata": {}
  },
  {
   "cell_type": "code",
   "execution_count": 91,
   "source": [
    "# 키 값 생성하기\r\n",
    "grd['NEW_ID'] = grd['USER_ID'] + grd['COURSE_ID']"
   ],
   "outputs": [],
   "metadata": {}
  },
  {
   "cell_type": "code",
   "execution_count": 92,
   "source": [
    "# 자아와명상1 제외\r\n",
    "idx = grd.loc[grd['HAKSU_NO'].str.contains('RGC0017', na=False)].index\r\n",
    "grd.drop(idx, inplace=True)"
   ],
   "outputs": [],
   "metadata": {}
  },
  {
   "cell_type": "code",
   "execution_count": 93,
   "source": [
    "# 자아와명상1 제외\r\n",
    "idx = grd.loc[grd['HAKSU_NO'].str.contains('RGC0018', na=False)].index\r\n",
    "grd.drop(idx, inplace=True)"
   ],
   "outputs": [],
   "metadata": {}
  },
  {
   "cell_type": "code",
   "execution_count": 94,
   "source": [
    "# 등급으로 되어 있는 학점을 점수로 변환\r\n",
    "grd.insert(6, 'SCORE', '')\r\n",
    "\r\n",
    "for i in tqdm(range(len(grd))):\r\n",
    "    if grd['GRADE'].iloc[i] == 'A+':\r\n",
    "        grd['SCORE'].iloc[i] = 4.5\r\n",
    "    elif grd['GRADE'].iloc[i] == 'A0':\r\n",
    "        grd['SCORE'].iloc[i] = 4.0\r\n",
    "    elif grd['GRADE'].iloc[i] == 'B+':\r\n",
    "        grd['SCORE'].iloc[i] = 3.5\r\n",
    "    elif grd['GRADE'].iloc[i] == 'B0':\r\n",
    "        grd['SCORE'].iloc[i] = 3.0\r\n",
    "    elif grd['GRADE'].iloc[i] == 'C+':\r\n",
    "        grd['SCORE'].iloc[i] = 2.5\r\n",
    "    elif grd['GRADE'].iloc[i] == 'C0':\r\n",
    "        grd['SCORE'].iloc[i] = 2.0\r\n",
    "    elif grd['GRADE'].iloc[i] == 'D+':\r\n",
    "        grd['SCORE'].iloc[i] = 1.5\r\n",
    "    elif grd['GRADE'].iloc[i] == 'D0':\r\n",
    "        grd['SCORE'].iloc[i] = 1.0\r\n",
    "    else:\r\n",
    "        grd['SCORE'].iloc[i] = 0\r\n"
   ],
   "outputs": [
    {
     "output_type": "stream",
     "name": "stderr",
     "text": [
      "100%|██████████| 485474/485474 [09:18<00:00, 868.96it/s] \n"
     ]
    }
   ],
   "metadata": {}
  },
  {
   "cell_type": "markdown",
   "source": [
    "### 7. 학점, credit, 이클래스 접속횟수를 트레이닝 데이터셋에 붙이기"
   ],
   "metadata": {}
  },
  {
   "cell_type": "markdown",
   "source": [
    "#### (1) 트레이닝 셋"
   ],
   "metadata": {}
  },
  {
   "cell_type": "code",
   "execution_count": 118,
   "source": [
    "# 학점 (훈련셋에만 붙임)\r\n",
    "train_df_1 = pd.merge(train_new, grd[['NEW_ID', 'SCORE']], on='NEW_ID', how='left')"
   ],
   "outputs": [],
   "metadata": {}
  },
  {
   "cell_type": "code",
   "execution_count": 98,
   "source": [
    "# 과목의 학점값\r\n",
    "cr20 = pd.read_excel('온라인학습로그/6. LM_COR_COURSE (과목)_2020.xlsx', engine='openpyxl')\r\n",
    "cr21_1 = pd.read_excel('온라인학습로그/6. LM_COR_COURSE (과목)_2021_1.xlsx', engine='openpyxl')\r\n",
    "cr21_2 = pd.read_excel('온라인학습로그/6. LM_COR_COURSE (과목)_2021_2.xlsx', engine='openpyxl')"
   ],
   "outputs": [],
   "metadata": {}
  },
  {
   "cell_type": "code",
   "execution_count": 99,
   "source": [
    "crd = pd.concat([cr20, cr21_1, cr21_2])"
   ],
   "outputs": [],
   "metadata": {}
  },
  {
   "cell_type": "code",
   "execution_count": 119,
   "source": [
    "# credit\r\n",
    "train_df_2 = pd.merge(train_df_1, crd[['COURSE_ID','CREDIT']], on='COURSE_ID', how='left')"
   ],
   "outputs": [],
   "metadata": {}
  },
  {
   "cell_type": "code",
   "execution_count": 120,
   "source": [
    "# 정보 없는 값 제거\r\n",
    "train_df_2.dropna(subset=['SCORE'], inplace=True)\r\n",
    "train_df_2.dropna(subset=['USER_ID'], inplace=True)"
   ],
   "outputs": [],
   "metadata": {}
  },
  {
   "cell_type": "code",
   "execution_count": 121,
   "source": [
    "# 여름계절학기 제거\r\n",
    "idx = train_df_2.loc[train_df_2['COURSE_ID'].str.contains('S2021U0002002')].index\r\n",
    "train_df_2.drop(idx, inplace=True)"
   ],
   "outputs": [],
   "metadata": {}
  },
  {
   "cell_type": "markdown",
   "source": [
    "#### (2) 테스트 셋"
   ],
   "metadata": {}
  },
  {
   "cell_type": "code",
   "execution_count": 122,
   "source": [
    "# credit\r\n",
    "test_df_2 = pd.merge(test_new_2, crd[['COURSE_ID','CREDIT']], on='COURSE_ID', how='left')"
   ],
   "outputs": [],
   "metadata": {}
  },
  {
   "cell_type": "markdown",
   "source": [
    "#### 수강과목 수"
   ],
   "metadata": {}
  },
  {
   "cell_type": "markdown",
   "source": [
    "### 8. 각 변수를 강의당 비율로 변환"
   ],
   "metadata": {}
  },
  {
   "cell_type": "code",
   "execution_count": 123,
   "source": [
    "# 수업 수강 횟수가 0이면 제거\r\n",
    "idx = train_df_2.loc[train_df_2['TAKEN_LEC_CNT'] == 0].index\r\n",
    "train_df_2.drop(idx, inplace=True)\r\n",
    "\r\n",
    "idx = test_df_2.loc[test_df_2['TAKEN_LEC_CNT'] == 0].index\r\n",
    "test_df_2.drop(idx, inplace=True)\r\n",
    "\r\n",
    "# 수강과목 학점 수가 0이면 제거\r\n",
    "idx = train_df_2.loc[train_df_2['CREDIT'] == 0].index\r\n",
    "train_df_2.drop(idx, inplace=True)\r\n",
    "\r\n",
    "idx = test_df_2.loc[test_df_2['CREDIT'] == 0].index\r\n",
    "test_df_2.drop(idx, inplace=True)"
   ],
   "outputs": [],
   "metadata": {}
  },
  {
   "cell_type": "code",
   "execution_count": 124,
   "source": [
    "# 학점 (트레이닝만)\r\n",
    "train_df_2['SCOR*CRED'] = train_df_2['SCORE'] * train_df_2['CREDIT']"
   ],
   "outputs": [],
   "metadata": {}
  },
  {
   "cell_type": "code",
   "execution_count": 126,
   "source": [
    "# 데이터 타입 변경\r\n",
    "train_df_2.loc[:, ['DURATION']] = train_df_2.loc[:, ['DURATION']].astype('float')\r\n",
    "train_df_2.loc[:, ['WEB_STUDY_TIME']] = train_df_2.loc[:, ['WEB_STUDY_TIME']].astype('float')\r\n",
    "train_df_2.loc[:, ['MOBILE_STUDY_TIME']] = train_df_2.loc[:, ['MOBILE_STUDY_TIME']].astype('float')\r\n",
    "train_df_2.loc[:, ['TAKEN_LEC_CNT']] = train_df_2.loc[:, ['TAKEN_LEC_CNT']].astype('float')\r\n",
    "train_df_2.loc[:, ['ECL_CNT']] = train_df_2.loc[:, ['ECL_CNT']].astype('float')\r\n",
    "train_df_2.loc[:, ['ALL_LEC_CNT']] = train_df_2.loc[:, ['ALL_LEC_CNT']].astype('float')\r\n",
    "train_df_2.loc[:, ['SCORE']] = train_df_2.loc[:, ['SCORE']].astype('float')\r\n",
    "train_df_2.loc[:, ['CREDIT']] = train_df_2.loc[:, ['CREDIT']].astype('float')\r\n",
    "train_df_2.loc[:, ['SCOR*CRED']] = train_df_2.loc[:, ['SCOR*CRED']].astype('float')\r\n",
    "\r\n",
    "test_df_2.loc[:, ['DURATION']] = test_df_2.loc[:, ['DURATION']].astype('float')\r\n",
    "test_df_2.loc[:, ['WEB_STUDY_TIME']] = test_df_2.loc[:, ['WEB_STUDY_TIME']].astype('float')\r\n",
    "test_df_2.loc[:, ['MOBILE_STUDY_TIME']] = test_df_2.loc[:, ['MOBILE_STUDY_TIME']].astype('float')\r\n",
    "test_df_2.loc[:, ['TAKEN_LEC_CNT']] = test_df_2.loc[:, ['TAKEN_LEC_CNT']].astype('float')\r\n",
    "test_df_2.loc[:, ['ECL_CNT']] = test_df_2.loc[:, ['ECL_CNT']].astype('float')\r\n",
    "test_df_2.loc[:, ['ALL_LEC_CNT']] = test_df_2.loc[:, ['ALL_LEC_CNT']].astype('float')"
   ],
   "outputs": [],
   "metadata": {}
  },
  {
   "cell_type": "code",
   "execution_count": null,
   "source": [
    "# TAKEN_LEC_CNT : 해당 과목을 수강한 횟수\r\n",
    "# ECL_CNT : 해당과목의 이클래스에 접속한 횟수\r\n",
    "# ALL_LEC_CNT : 해당 과목의 한 학기 전체 수업 횟수\r\n",
    "# WK_LEC_CNT : (테스트 데이터에서) 현재 주차까지의 전체 수업 횟수 (교수님이 수업한 횟수로, 내가 수강한 횟수와 다를 수 있는 값)"
   ],
   "outputs": [],
   "metadata": {}
  },
  {
   "cell_type": "code",
   "execution_count": 127,
   "source": [
    "# 한 학점 당 1회 수강시간 : 수강시간/(수강횟수*학점수)\r\n",
    "train_df_2['DURATION/(TK_LEC_CNT*CRED)'] = round(train_df_2['DURATION'] / (train_df_2['TAKEN_LEC_CNT'] * train_df_2['CREDIT']), 2)\r\n",
    "test_df_2['DURATION/(TK_LEC_CNT*CRED)'] = round(test_df_2['DURATION'] / (test_df_2['TAKEN_LEC_CNT'] * test_df_2['CREDIT']), 2)"
   ],
   "outputs": [],
   "metadata": {}
  },
  {
   "cell_type": "code",
   "execution_count": 128,
   "source": [
    "# 웹 : 한 학점당 수강시간 계산하기\r\n",
    "train_df_2['WEB/(TK_LEC_CNT*CRED)'] = round(train_df_2['WEB_STUDY_TIME'] / (train_df_2['TAKEN_LEC_CNT'] * train_df_2['CREDIT']), 2)\r\n",
    "test_df_2['WEB/(TK_LEC_CNT*CRED)'] = round(test_df_2['WEB_STUDY_TIME'] / (test_df_2['TAKEN_LEC_CNT'] * test_df_2['CREDIT']), 2)"
   ],
   "outputs": [],
   "metadata": {}
  },
  {
   "cell_type": "code",
   "execution_count": 129,
   "source": [
    "# 모바일 : 한 학점당 수강시간 계산하기\r\n",
    "train_df_2['MOBILE/(TK_LEC_CNT*CRED)'] = round(train_df_2['MOBILE_STUDY_TIME'] / (train_df_2['TAKEN_LEC_CNT'] * train_df_2['CREDIT']), 2)\r\n",
    "test_df_2['MOBILE/(TK_LEC_CNT*CRED)'] = round(test_df_2['MOBILE_STUDY_TIME'] / (test_df_2['TAKEN_LEC_CNT'] * test_df_2['CREDIT']), 2)"
   ],
   "outputs": [],
   "metadata": {}
  },
  {
   "cell_type": "markdown",
   "source": [
    "### 9. 사람당으로 모두 sum"
   ],
   "metadata": {}
  },
  {
   "cell_type": "code",
   "execution_count": 192,
   "source": [
    "train_df_2_sum = train_df_2.groupby(['USER_ID']).sum()\r\n",
    "test_df_2_sum = test_df_2.groupby(['USER_ID']).sum()"
   ],
   "outputs": [],
   "metadata": {}
  },
  {
   "cell_type": "code",
   "execution_count": 193,
   "source": [
    "train_df_2_sum.reset_index(['USER_ID'], inplace=True)\r\n",
    "test_df_2_sum.reset_index(['USER_ID'], inplace=True)"
   ],
   "outputs": [],
   "metadata": {}
  },
  {
   "cell_type": "code",
   "execution_count": 194,
   "source": [
    "# 데이터 타입 정의\r\n",
    "train_df_2_sum['SCOR*CRED'] = train_df_2_sum['SCOR*CRED'].astype(float)\r\n",
    "train_df_2_sum['CREDIT'] = train_df_2_sum['CREDIT'].astype(float)"
   ],
   "outputs": [],
   "metadata": {}
  },
  {
   "cell_type": "code",
   "execution_count": 195,
   "source": [
    "# 수강과목 수\r\n",
    "train_tot_crs_cnt = train_df_2.groupby(['USER_ID']).count()\r\n",
    "train_tot_crs_cnt.reset_index(inplace=True)\r\n",
    "train_tot_crs_cnt = train_tot_crs_cnt[['USER_ID', 'NEW_ID']]\r\n",
    "train_tot_crs_cnt.rename(columns={'NEW_ID':'TOT_CRS_CNT'}, inplace=True)\r\n",
    "\r\n",
    "test_tot_crs_cnt = test_df_2.groupby(['USER_ID']).count()\r\n",
    "test_tot_crs_cnt.reset_index(inplace=True)\r\n",
    "test_tot_crs_cnt = test_tot_crs_cnt[['USER_ID', 'NEW_ID']]\r\n",
    "test_tot_crs_cnt.rename(columns={'NEW_ID':'TOT_CRS_CNT'}, inplace=True)"
   ],
   "outputs": [],
   "metadata": {}
  },
  {
   "cell_type": "code",
   "execution_count": 196,
   "source": [
    "# 수강과목 수가 0이면 drop\r\n",
    "train_df_2_sum = train_df_2_sum.drop(15)\r\n",
    "train_df_2_sum = train_df_2_sum.drop(27)\r\n",
    "train_df_2_sum = train_df_2_sum.drop(647)"
   ],
   "outputs": [],
   "metadata": {}
  },
  {
   "cell_type": "code",
   "execution_count": 197,
   "source": [
    "# 접속비율 : 나의수강횟수/전체수업횟수\r\n",
    "train_df_2_sum['CONNECT_RAT'] = round(train_df_2_sum['TAKEN_LEC_CNT'] / (train_df_2_sum['ALL_LEC_CNT']), 2)\r\n",
    "test_df_2_sum['CONNECT_RAT'] = round(test_df_2_sum['TAKEN_LEC_CNT'] / (test_df_2_sum['WK_LEC_CNT']), 2) # 지금까지의 수업횟수로 나눈다."
   ],
   "outputs": [],
   "metadata": {}
  },
  {
   "cell_type": "code",
   "execution_count": 199,
   "source": [
    "# 이클래스 접속비율 : (이클래스 접속횟수*지금까지의 수업횟수)/전체 수업횟수\r\n",
    "train_df_2_sum['AVG_ECLASS_RAT'] = round(train_df_2_sum['ECL_CNT']/ train_df_2_sum['ALL_LEC_CNT'], 2)\r\n",
    "test_df_2_sum['AVG_ECLASS_RAT'] = round(test_df_2_sum['ECL_CNT'] / test_df_2_sum['WK_LEC_CNT'], 2)"
   ],
   "outputs": [],
   "metadata": {}
  },
  {
   "cell_type": "code",
   "execution_count": 200,
   "source": [
    "# 결석횟수 : 전체 수업횟수 - 수강횟수\r\n",
    "train_df_2_sum['T_ABSENT_CNT'] = train_df_2_sum['ALL_LEC_CNT'] - train_df_2_sum['TAKEN_LEC_CNT']\r\n",
    "\r\n",
    "# 결석횟수 : 지금까지의 수업횟수 - 수강횟수\r\n",
    "test_df_2_sum['T_ABSENT_CNT'] = test_df_2_sum['WK_LEC_CNT'] - test_df_2_sum['TAKEN_LEC_CNT']"
   ],
   "outputs": [],
   "metadata": {}
  },
  {
   "cell_type": "code",
   "execution_count": 201,
   "source": [
    "# 결석비율 : 결석횟수/전체 수업횟수\r\n",
    "train_df_2_sum['ABSENT_RAT'] = train_df_2_sum['T_ABSENT_CNT'] / train_df_2_sum['ALL_LEC_CNT']\r\n",
    "# 결석비율 : 결석횟수/지금까지의 수업횟수\r\n",
    "test_df_2_sum['ABSENT_RAT'] = test_df_2_sum['T_ABSENT_CNT'] / test_df_2_sum['WK_LEC_CNT']"
   ],
   "outputs": [],
   "metadata": {}
  },
  {
   "cell_type": "code",
   "execution_count": 202,
   "source": [
    "# 학점\r\n",
    "train_df_2_sum['AVG_SCORE'] = round(train_df_2_sum['SCOR*CRED']/train_df_2_sum['CREDIT'], 2)"
   ],
   "outputs": [],
   "metadata": {}
  },
  {
   "cell_type": "code",
   "execution_count": 203,
   "source": [
    "# 컬럼명 변경\r\n",
    "train_df_2_sum.rename(columns={'DURATION/(TK_LEC_CNT*CRED)':'AVG_STUDY_TIME', 'WEB/(TK_LEC_CNT*CRED)':'AVG_WEB_STUDY_TIME', 'MOBILE/(TK_LEC_CNT*CRED)':'AVG_MOBILE_STUDY_TIME'}, inplace=True)\r\n",
    "test_df_2_sum.rename(columns={'DURATION/(TK_LEC_CNT*CRED)':'AVG_STUDY_TIME', 'WEB/(TK_LEC_CNT*CRED)':'AVG_WEB_STUDY_TIME', 'MOBILE/(TK_LEC_CNT*CRED)':'AVG_MOBILE_STUDY_TIME'}, inplace=True)"
   ],
   "outputs": [],
   "metadata": {}
  },
  {
   "cell_type": "code",
   "execution_count": 204,
   "source": [
    "train_df_3 = pd.merge(train_df_2_sum, train_tot_crs_cnt, on='USER_ID', how='left')\r\n",
    "test_df_3 = pd.merge(test_df_2_sum, test_tot_crs_cnt, on='USER_ID', how='left')"
   ],
   "outputs": [],
   "metadata": {}
  },
  {
   "cell_type": "code",
   "execution_count": 205,
   "source": [
    "train_df_3['TOT_CRS_CNT'] = train_df_3['TOT_CRS_CNT'].astype('float')\r\n",
    "test_df_3['TOT_CRS_CNT'] = test_df_3['TOT_CRS_CNT'].astype('float')"
   ],
   "outputs": [],
   "metadata": {}
  },
  {
   "cell_type": "markdown",
   "source": [
    "### 10. 수강 강의 개수로 나누기"
   ],
   "metadata": {}
  },
  {
   "cell_type": "code",
   "execution_count": 206,
   "source": [
    "cols = ['AVG_STUDY_TIME', 'AVG_WEB_STUDY_TIME', 'AVG_MOBILE_STUDY_TIME', 'CONNECT_RAT', 'AVG_ECLASS_RAT', 'ABSENT_RAT']\r\n",
    "\r\n",
    "for col in cols:\r\n",
    "    train_df_3[col] = round(train_df_3[col]/train_df_3['TOT_CRS_CNT'], 2)\r\n",
    "    test_df_3[col] = round(test_df_3[col]/test_df_3['TOT_CRS_CNT'], 2)"
   ],
   "outputs": [],
   "metadata": {}
  },
  {
   "cell_type": "markdown",
   "source": [
    "### 9. 학적 데이터와 붙이기"
   ],
   "metadata": {}
  },
  {
   "cell_type": "code",
   "execution_count": 207,
   "source": [
    "train_finl = pd.merge(user, train_df_2_sum, on='USER_ID', how='right')\r\n",
    "train_finl.dropna(subset=['USER_ID'], inplace=True)\r\n",
    "train_finl.dropna(subset=['KOR_NM'], inplace=True)"
   ],
   "outputs": [],
   "metadata": {}
  },
  {
   "cell_type": "code",
   "execution_count": 208,
   "source": [
    "test_finl = pd.merge(user, test_df_2_sum, on='USER_ID', how='right')\r\n",
    "test_finl.dropna(subset=['USER_ID'], inplace=True)\r\n",
    "test_finl.dropna(subset=['KOR_NM'], inplace=True)"
   ],
   "outputs": [],
   "metadata": {}
  },
  {
   "cell_type": "markdown",
   "source": [
    "### 10. 분석용 데이터셋 전처리 완료"
   ],
   "metadata": {}
  },
  {
   "cell_type": "code",
   "execution_count": 209,
   "source": [
    "# 컬럼 순서 정렬\r\n",
    "train_finl = train_finl[['USER_ID', 'GEN_FG', 'LOC_FG', 'SHYR_CD', 'PART_CD', 'ENTR_FG', 'RE_ENTR_YN', 'ACADEMIC_PROB_CNT',\r\n",
    "                        'CONNECT_RAT', 'AVG_STUDY_TIME', 'AVG_WEB_STUDY_TIME', 'AVG_MOBILE_STUDY_TIME', 'ABSENT_RAT', 'AVG_ECLASS_RAT', 'AVG_SCORE']]\r\n",
    "\r\n",
    "test_finl = test_finl[['USER_ID', 'GEN_FG', 'LOC_FG', 'SHYR_CD', 'PART_CD', 'ENTR_FG', 'RE_ENTR_YN', 'ACADEMIC_PROB_CNT',\r\n",
    "                        'CONNECT_RAT', 'AVG_STUDY_TIME', 'AVG_WEB_STUDY_TIME', 'AVG_MOBILE_STUDY_TIME', 'ABSENT_RAT', 'AVG_ECLASS_RAT']]              "
   ],
   "outputs": [],
   "metadata": {}
  },
  {
   "cell_type": "code",
   "execution_count": 210,
   "source": [
    "train_finl.rename(columns={'SHYR_CD':'GRADE', 'PART_CD':'FLD_FG'}, inplace=True)\r\n",
    "test_finl.rename(columns={'SHYR_CD':'GRADE', 'PART_CD':'FLD_FG'}, inplace=True)"
   ],
   "outputs": [],
   "metadata": {}
  },
  {
   "cell_type": "code",
   "execution_count": 211,
   "source": [
    "train_finl.reset_index(drop=True, inplace=True)\r\n",
    "test_finl.reset_index(drop=True, inplace=True)"
   ],
   "outputs": [],
   "metadata": {}
  },
  {
   "cell_type": "code",
   "execution_count": 212,
   "source": [
    "# 데이터셋 크기\r\n",
    "print(len(train_finl))\r\n",
    "print(len(test_finl))"
   ],
   "outputs": [
    {
     "output_type": "stream",
     "name": "stdout",
     "text": [
      "11723\n",
      "11406\n"
     ]
    }
   ],
   "metadata": {}
  },
  {
   "cell_type": "code",
   "execution_count": 214,
   "source": [
    "# 저장\r\n",
    "#train_finl.to_csv('전처리완료/train.csv', encoding='cp949')\r\n",
    "#test_finl.to_csv('전처리완료/test.csv', encoding='cp949')"
   ],
   "outputs": [],
   "metadata": {}
  }
 ],
 "metadata": {
  "orig_nbformat": 4,
  "language_info": {
   "name": "python",
   "version": "3.7.9",
   "mimetype": "text/x-python",
   "codemirror_mode": {
    "name": "ipython",
    "version": 3
   },
   "pygments_lexer": "ipython3",
   "nbconvert_exporter": "python",
   "file_extension": ".py"
  },
  "kernelspec": {
   "name": "python3",
   "display_name": "Python 3.7.9 64-bit ('USER': virtualenv)"
  },
  "interpreter": {
   "hash": "42588fd11209419b7c81abe23e31a1d2101f60811b02170c268e57ebb57d5d9a"
  }
 },
 "nbformat": 4,
 "nbformat_minor": 2
}